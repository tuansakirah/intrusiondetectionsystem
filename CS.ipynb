{
  "cells": [
    {
      "cell_type": "code",
      "execution_count": 11,
      "metadata": {
        "id": "25nDn8-XY9Wc"
      },
      "outputs": [],
      "source": []
    },
    {
      "cell_type": "markdown",
      "metadata": {
        "id": "FP_4vhxa48_N"
      },
      "source": [
        "# New section"
      ]
    },
    {
      "cell_type": "code",
      "execution_count": null,
      "metadata": {},
      "outputs": [],
      "source": []
    },
    {
      "cell_type": "code",
      "execution_count": 31,
      "metadata": {
        "id": "rac_s68MULGq"
      },
      "outputs": [],
      "source": [
        "import numpy as np\n",
        "import pandas as pd\n",
        "import seaborn as sns\n",
        "import matplotlib.pyplot as plt\n",
        "from pandas.api.types import is_numeric_dtype\n",
        "import warnings\n",
        "from sklearn import tree\n",
        "from sklearn.model_selection import train_test_split\n",
        "from sklearn.neighbors import KNeighborsClassifier\n",
        "from sklearn.linear_model import LogisticRegression\n",
        "from sklearn.preprocessing import StandardScaler, LabelEncoder\n",
        "from sklearn.tree  import DecisionTreeClassifier\n",
        "from sklearn.ensemble import RandomForestClassifier, AdaBoostClassifier, VotingClassifier, GradientBoostingClassifier\n",
        "from sklearn.svm import SVC, LinearSVC\n",
        "from sklearn.naive_bayes import BernoulliNB\n",
        "from lightgbm import LGBMClassifier\n",
        "from sklearn.feature_selection import RFE\n",
        "import itertools\n",
        "from xgboost import XGBClassifier\n",
        "from tabulate import tabulate\n"
      ]
    },
    {
      "cell_type": "code",
      "execution_count": 32,
      "metadata": {
        "colab": {
          "base_uri": "https://localhost:8080/"
        },
        "id": "QT6z20M-UPon",
        "outputId": "b3bb3f56-8c41-40fe-a79a-e07c009f9c12"
      },
      "outputs": [
        {
          "name": "stdout",
          "output_type": "stream",
          "text": [
            "Data shape: (100655, 41)\n",
            "Feature names: ['duration', 'protocol_type', 'service', 'flag', 'src_bytes', 'dst_bytes', 'land', 'wrong_fragment', 'urgent', 'hot', 'num_failed_logins', 'logged_in', 'num_compromised', 'root_shell', 'su_attempted', 'num_root', 'num_file_creations', 'num_shells', 'num_access_files', 'num_outbound_cmds', 'is_host_login', 'is_guest_login', 'count', 'srv_count', 'serror_rate', 'srv_serror_rate', 'rerror_rate', 'srv_rerror_rate', 'same_srv_rate', 'diff_srv_rate', 'srv_diff_host_rate', 'dst_host_count', 'dst_host_srv_count', 'dst_host_same_srv_rate', 'dst_host_diff_srv_rate', 'dst_host_same_src_port_rate', 'dst_host_srv_diff_host_rate', 'dst_host_serror_rate', 'dst_host_srv_serror_rate', 'dst_host_rerror_rate', 'dst_host_srv_rerror_rate']\n",
            "Target shape: (100655,)\n",
            "Target classes: {b'buffer_overflow.', b'satan.', b'back.', b'land.', b'ipsweep.', b'neptune.', b'teardrop.', b'smurf.', b'warezclient.', b'pod.', b'normal.', b'portsweep.'}\n"
          ]
        }
      ],
      "source": [
        "from sklearn.datasets import fetch_kddcup99\n",
        "\n",
        "# Load the dataset\n",
        "kdd_data = fetch_kddcup99(subset='SA', shuffle=True, random_state=42)\n",
        "\n",
        "# Explore the data\n",
        "print(\"Data shape:\", kdd_data.data.shape)\n",
        "print(\"Feature names:\", kdd_data.feature_names)\n",
        "print(\"Target shape:\", kdd_data.target.shape)\n",
        "print(\"Target classes:\", set(kdd_data.target))\n",
        "\n",
        "# Access data and target\n",
        "X = kdd_data.data  # Features\n",
        "y = kdd_data.target  # Labels"
      ]
    },
    {
      "cell_type": "code",
      "execution_count": 68,
      "metadata": {
        "id": "xr889ESxVdcG"
      },
      "outputs": [],
      "source": [
        "train=pd.read_csv('Train_data.csv')"
      ]
    },
    {
      "cell_type": "code",
      "execution_count": 69,
      "metadata": {
        "id": "Q4Tj5NixVzwS"
      },
      "outputs": [],
      "source": [
        "\n",
        "test=pd.read_csv('Test_data.csv')\n"
      ]
    },
    {
      "cell_type": "code",
      "execution_count": 33,
      "metadata": {
        "colab": {
          "base_uri": "https://localhost:8080/",
          "height": 255
        },
        "id": "UVwRWygNV7Mz",
        "outputId": "5eb8c0a8-5855-439b-c5a2-1a4fe9b58808"
      },
      "outputs": [
        {
          "data": {
            "text/html": [
              "<div>\n",
              "<style scoped>\n",
              "    .dataframe tbody tr th:only-of-type {\n",
              "        vertical-align: middle;\n",
              "    }\n",
              "\n",
              "    .dataframe tbody tr th {\n",
              "        vertical-align: top;\n",
              "    }\n",
              "\n",
              "    .dataframe thead th {\n",
              "        text-align: right;\n",
              "    }\n",
              "</style>\n",
              "<table border=\"1\" class=\"dataframe\">\n",
              "  <thead>\n",
              "    <tr style=\"text-align: right;\">\n",
              "      <th></th>\n",
              "      <th>duration</th>\n",
              "      <th>protocol_type</th>\n",
              "      <th>service</th>\n",
              "      <th>flag</th>\n",
              "      <th>src_bytes</th>\n",
              "      <th>dst_bytes</th>\n",
              "      <th>land</th>\n",
              "      <th>wrong_fragment</th>\n",
              "      <th>urgent</th>\n",
              "      <th>hot</th>\n",
              "      <th>...</th>\n",
              "      <th>dst_host_count</th>\n",
              "      <th>dst_host_srv_count</th>\n",
              "      <th>dst_host_same_srv_rate</th>\n",
              "      <th>dst_host_diff_srv_rate</th>\n",
              "      <th>dst_host_same_src_port_rate</th>\n",
              "      <th>dst_host_srv_diff_host_rate</th>\n",
              "      <th>dst_host_serror_rate</th>\n",
              "      <th>dst_host_srv_serror_rate</th>\n",
              "      <th>dst_host_rerror_rate</th>\n",
              "      <th>dst_host_srv_rerror_rate</th>\n",
              "    </tr>\n",
              "  </thead>\n",
              "  <tbody>\n",
              "    <tr>\n",
              "      <th>0</th>\n",
              "      <td>0</td>\n",
              "      <td>tcp</td>\n",
              "      <td>private</td>\n",
              "      <td>REJ</td>\n",
              "      <td>0</td>\n",
              "      <td>0</td>\n",
              "      <td>0</td>\n",
              "      <td>0</td>\n",
              "      <td>0</td>\n",
              "      <td>0</td>\n",
              "      <td>...</td>\n",
              "      <td>255</td>\n",
              "      <td>10</td>\n",
              "      <td>0.04</td>\n",
              "      <td>0.06</td>\n",
              "      <td>0.00</td>\n",
              "      <td>0.00</td>\n",
              "      <td>0.0</td>\n",
              "      <td>0.0</td>\n",
              "      <td>1.00</td>\n",
              "      <td>1.00</td>\n",
              "    </tr>\n",
              "    <tr>\n",
              "      <th>1</th>\n",
              "      <td>0</td>\n",
              "      <td>tcp</td>\n",
              "      <td>private</td>\n",
              "      <td>REJ</td>\n",
              "      <td>0</td>\n",
              "      <td>0</td>\n",
              "      <td>0</td>\n",
              "      <td>0</td>\n",
              "      <td>0</td>\n",
              "      <td>0</td>\n",
              "      <td>...</td>\n",
              "      <td>255</td>\n",
              "      <td>1</td>\n",
              "      <td>0.00</td>\n",
              "      <td>0.06</td>\n",
              "      <td>0.00</td>\n",
              "      <td>0.00</td>\n",
              "      <td>0.0</td>\n",
              "      <td>0.0</td>\n",
              "      <td>1.00</td>\n",
              "      <td>1.00</td>\n",
              "    </tr>\n",
              "    <tr>\n",
              "      <th>2</th>\n",
              "      <td>2</td>\n",
              "      <td>tcp</td>\n",
              "      <td>ftp_data</td>\n",
              "      <td>SF</td>\n",
              "      <td>12983</td>\n",
              "      <td>0</td>\n",
              "      <td>0</td>\n",
              "      <td>0</td>\n",
              "      <td>0</td>\n",
              "      <td>0</td>\n",
              "      <td>...</td>\n",
              "      <td>134</td>\n",
              "      <td>86</td>\n",
              "      <td>0.61</td>\n",
              "      <td>0.04</td>\n",
              "      <td>0.61</td>\n",
              "      <td>0.02</td>\n",
              "      <td>0.0</td>\n",
              "      <td>0.0</td>\n",
              "      <td>0.00</td>\n",
              "      <td>0.00</td>\n",
              "    </tr>\n",
              "    <tr>\n",
              "      <th>3</th>\n",
              "      <td>0</td>\n",
              "      <td>icmp</td>\n",
              "      <td>eco_i</td>\n",
              "      <td>SF</td>\n",
              "      <td>20</td>\n",
              "      <td>0</td>\n",
              "      <td>0</td>\n",
              "      <td>0</td>\n",
              "      <td>0</td>\n",
              "      <td>0</td>\n",
              "      <td>...</td>\n",
              "      <td>3</td>\n",
              "      <td>57</td>\n",
              "      <td>1.00</td>\n",
              "      <td>0.00</td>\n",
              "      <td>1.00</td>\n",
              "      <td>0.28</td>\n",
              "      <td>0.0</td>\n",
              "      <td>0.0</td>\n",
              "      <td>0.00</td>\n",
              "      <td>0.00</td>\n",
              "    </tr>\n",
              "    <tr>\n",
              "      <th>4</th>\n",
              "      <td>1</td>\n",
              "      <td>tcp</td>\n",
              "      <td>telnet</td>\n",
              "      <td>RSTO</td>\n",
              "      <td>0</td>\n",
              "      <td>15</td>\n",
              "      <td>0</td>\n",
              "      <td>0</td>\n",
              "      <td>0</td>\n",
              "      <td>0</td>\n",
              "      <td>...</td>\n",
              "      <td>29</td>\n",
              "      <td>86</td>\n",
              "      <td>0.31</td>\n",
              "      <td>0.17</td>\n",
              "      <td>0.03</td>\n",
              "      <td>0.02</td>\n",
              "      <td>0.0</td>\n",
              "      <td>0.0</td>\n",
              "      <td>0.83</td>\n",
              "      <td>0.71</td>\n",
              "    </tr>\n",
              "  </tbody>\n",
              "</table>\n",
              "<p>5 rows × 41 columns</p>\n",
              "</div>"
            ],
            "text/plain": [
              "   duration protocol_type   service  flag  src_bytes  dst_bytes  land  \\\n",
              "0         0           tcp   private   REJ          0          0     0   \n",
              "1         0           tcp   private   REJ          0          0     0   \n",
              "2         2           tcp  ftp_data    SF      12983          0     0   \n",
              "3         0          icmp     eco_i    SF         20          0     0   \n",
              "4         1           tcp    telnet  RSTO          0         15     0   \n",
              "\n",
              "   wrong_fragment  urgent  hot  ...  dst_host_count  dst_host_srv_count  \\\n",
              "0               0       0    0  ...             255                  10   \n",
              "1               0       0    0  ...             255                   1   \n",
              "2               0       0    0  ...             134                  86   \n",
              "3               0       0    0  ...               3                  57   \n",
              "4               0       0    0  ...              29                  86   \n",
              "\n",
              "   dst_host_same_srv_rate  dst_host_diff_srv_rate  \\\n",
              "0                    0.04                    0.06   \n",
              "1                    0.00                    0.06   \n",
              "2                    0.61                    0.04   \n",
              "3                    1.00                    0.00   \n",
              "4                    0.31                    0.17   \n",
              "\n",
              "   dst_host_same_src_port_rate  dst_host_srv_diff_host_rate  \\\n",
              "0                         0.00                         0.00   \n",
              "1                         0.00                         0.00   \n",
              "2                         0.61                         0.02   \n",
              "3                         1.00                         0.28   \n",
              "4                         0.03                         0.02   \n",
              "\n",
              "   dst_host_serror_rate  dst_host_srv_serror_rate  dst_host_rerror_rate  \\\n",
              "0                   0.0                       0.0                  1.00   \n",
              "1                   0.0                       0.0                  1.00   \n",
              "2                   0.0                       0.0                  0.00   \n",
              "3                   0.0                       0.0                  0.00   \n",
              "4                   0.0                       0.0                  0.83   \n",
              "\n",
              "   dst_host_srv_rerror_rate  \n",
              "0                      1.00  \n",
              "1                      1.00  \n",
              "2                      0.00  \n",
              "3                      0.00  \n",
              "4                      0.71  \n",
              "\n",
              "[5 rows x 41 columns]"
            ]
          },
          "execution_count": 33,
          "metadata": {},
          "output_type": "execute_result"
        }
      ],
      "source": [
        "train.head()"
      ]
    },
    {
      "cell_type": "code",
      "execution_count": 34,
      "metadata": {
        "colab": {
          "base_uri": "https://localhost:8080/"
        },
        "id": "4rgG76j3V-5f",
        "outputId": "88d31bbf-01c0-403b-849f-fe148fba9cb5"
      },
      "outputs": [
        {
          "name": "stdout",
          "output_type": "stream",
          "text": [
            "<class 'pandas.core.frame.DataFrame'>\n",
            "RangeIndex: 22544 entries, 0 to 22543\n",
            "Data columns (total 41 columns):\n",
            " #   Column                       Non-Null Count  Dtype  \n",
            "---  ------                       --------------  -----  \n",
            " 0   duration                     22544 non-null  int64  \n",
            " 1   protocol_type                22544 non-null  object \n",
            " 2   service                      22544 non-null  object \n",
            " 3   flag                         22544 non-null  object \n",
            " 4   src_bytes                    22544 non-null  int64  \n",
            " 5   dst_bytes                    22544 non-null  int64  \n",
            " 6   land                         22544 non-null  int64  \n",
            " 7   wrong_fragment               22544 non-null  int64  \n",
            " 8   urgent                       22544 non-null  int64  \n",
            " 9   hot                          22544 non-null  int64  \n",
            " 10  num_failed_logins            22544 non-null  int64  \n",
            " 11  logged_in                    22544 non-null  int64  \n",
            " 12  num_compromised              22544 non-null  int64  \n",
            " 13  root_shell                   22544 non-null  int64  \n",
            " 14  su_attempted                 22544 non-null  int64  \n",
            " 15  num_root                     22544 non-null  int64  \n",
            " 16  num_file_creations           22544 non-null  int64  \n",
            " 17  num_shells                   22544 non-null  int64  \n",
            " 18  num_access_files             22544 non-null  int64  \n",
            " 19  num_outbound_cmds            22544 non-null  int64  \n",
            " 20  is_host_login                22544 non-null  int64  \n",
            " 21  is_guest_login               22544 non-null  int64  \n",
            " 22  count                        22544 non-null  int64  \n",
            " 23  srv_count                    22544 non-null  int64  \n",
            " 24  serror_rate                  22544 non-null  float64\n",
            " 25  srv_serror_rate              22544 non-null  float64\n",
            " 26  rerror_rate                  22544 non-null  float64\n",
            " 27  srv_rerror_rate              22544 non-null  float64\n",
            " 28  same_srv_rate                22544 non-null  float64\n",
            " 29  diff_srv_rate                22544 non-null  float64\n",
            " 30  srv_diff_host_rate           22544 non-null  float64\n",
            " 31  dst_host_count               22544 non-null  int64  \n",
            " 32  dst_host_srv_count           22544 non-null  int64  \n",
            " 33  dst_host_same_srv_rate       22544 non-null  float64\n",
            " 34  dst_host_diff_srv_rate       22544 non-null  float64\n",
            " 35  dst_host_same_src_port_rate  22544 non-null  float64\n",
            " 36  dst_host_srv_diff_host_rate  22544 non-null  float64\n",
            " 37  dst_host_serror_rate         22544 non-null  float64\n",
            " 38  dst_host_srv_serror_rate     22544 non-null  float64\n",
            " 39  dst_host_rerror_rate         22544 non-null  float64\n",
            " 40  dst_host_srv_rerror_rate     22544 non-null  float64\n",
            "dtypes: float64(15), int64(23), object(3)\n",
            "memory usage: 7.1+ MB\n"
          ]
        }
      ],
      "source": [
        "train.info()"
      ]
    },
    {
      "cell_type": "code",
      "execution_count": 35,
      "metadata": {
        "colab": {
          "base_uri": "https://localhost:8080/",
          "height": 349
        },
        "id": "1W64KVPPWBzp",
        "outputId": "7fc391f5-6fe6-4b8c-9f56-f6c9dacdde37"
      },
      "outputs": [
        {
          "data": {
            "text/html": [
              "<div>\n",
              "<style scoped>\n",
              "    .dataframe tbody tr th:only-of-type {\n",
              "        vertical-align: middle;\n",
              "    }\n",
              "\n",
              "    .dataframe tbody tr th {\n",
              "        vertical-align: top;\n",
              "    }\n",
              "\n",
              "    .dataframe thead th {\n",
              "        text-align: right;\n",
              "    }\n",
              "</style>\n",
              "<table border=\"1\" class=\"dataframe\">\n",
              "  <thead>\n",
              "    <tr style=\"text-align: right;\">\n",
              "      <th></th>\n",
              "      <th>duration</th>\n",
              "      <th>src_bytes</th>\n",
              "      <th>dst_bytes</th>\n",
              "      <th>land</th>\n",
              "      <th>wrong_fragment</th>\n",
              "      <th>urgent</th>\n",
              "      <th>hot</th>\n",
              "      <th>num_failed_logins</th>\n",
              "      <th>logged_in</th>\n",
              "      <th>num_compromised</th>\n",
              "      <th>...</th>\n",
              "      <th>dst_host_count</th>\n",
              "      <th>dst_host_srv_count</th>\n",
              "      <th>dst_host_same_srv_rate</th>\n",
              "      <th>dst_host_diff_srv_rate</th>\n",
              "      <th>dst_host_same_src_port_rate</th>\n",
              "      <th>dst_host_srv_diff_host_rate</th>\n",
              "      <th>dst_host_serror_rate</th>\n",
              "      <th>dst_host_srv_serror_rate</th>\n",
              "      <th>dst_host_rerror_rate</th>\n",
              "      <th>dst_host_srv_rerror_rate</th>\n",
              "    </tr>\n",
              "  </thead>\n",
              "  <tbody>\n",
              "    <tr>\n",
              "      <th>count</th>\n",
              "      <td>22544.000000</td>\n",
              "      <td>2.254400e+04</td>\n",
              "      <td>2.254400e+04</td>\n",
              "      <td>22544.000000</td>\n",
              "      <td>22544.000000</td>\n",
              "      <td>22544.000000</td>\n",
              "      <td>22544.000000</td>\n",
              "      <td>22544.000000</td>\n",
              "      <td>22544.000000</td>\n",
              "      <td>22544.000000</td>\n",
              "      <td>...</td>\n",
              "      <td>22544.000000</td>\n",
              "      <td>22544.000000</td>\n",
              "      <td>22544.000000</td>\n",
              "      <td>22544.000000</td>\n",
              "      <td>22544.000000</td>\n",
              "      <td>22544.000000</td>\n",
              "      <td>22544.000000</td>\n",
              "      <td>22544.000000</td>\n",
              "      <td>22544.000000</td>\n",
              "      <td>22544.000000</td>\n",
              "    </tr>\n",
              "    <tr>\n",
              "      <th>mean</th>\n",
              "      <td>218.859076</td>\n",
              "      <td>1.039545e+04</td>\n",
              "      <td>2.056019e+03</td>\n",
              "      <td>0.000311</td>\n",
              "      <td>0.008428</td>\n",
              "      <td>0.000710</td>\n",
              "      <td>0.105394</td>\n",
              "      <td>0.021647</td>\n",
              "      <td>0.442202</td>\n",
              "      <td>0.119899</td>\n",
              "      <td>...</td>\n",
              "      <td>193.869411</td>\n",
              "      <td>140.750532</td>\n",
              "      <td>0.608722</td>\n",
              "      <td>0.090540</td>\n",
              "      <td>0.132261</td>\n",
              "      <td>0.019638</td>\n",
              "      <td>0.097814</td>\n",
              "      <td>0.099426</td>\n",
              "      <td>0.233385</td>\n",
              "      <td>0.226683</td>\n",
              "    </tr>\n",
              "    <tr>\n",
              "      <th>std</th>\n",
              "      <td>1407.176612</td>\n",
              "      <td>4.727864e+05</td>\n",
              "      <td>2.121930e+04</td>\n",
              "      <td>0.017619</td>\n",
              "      <td>0.142599</td>\n",
              "      <td>0.036473</td>\n",
              "      <td>0.928428</td>\n",
              "      <td>0.150328</td>\n",
              "      <td>0.496659</td>\n",
              "      <td>7.269597</td>\n",
              "      <td>...</td>\n",
              "      <td>94.035663</td>\n",
              "      <td>111.783972</td>\n",
              "      <td>0.435688</td>\n",
              "      <td>0.220717</td>\n",
              "      <td>0.306268</td>\n",
              "      <td>0.085394</td>\n",
              "      <td>0.273139</td>\n",
              "      <td>0.281866</td>\n",
              "      <td>0.387229</td>\n",
              "      <td>0.400875</td>\n",
              "    </tr>\n",
              "    <tr>\n",
              "      <th>min</th>\n",
              "      <td>0.000000</td>\n",
              "      <td>0.000000e+00</td>\n",
              "      <td>0.000000e+00</td>\n",
              "      <td>0.000000</td>\n",
              "      <td>0.000000</td>\n",
              "      <td>0.000000</td>\n",
              "      <td>0.000000</td>\n",
              "      <td>0.000000</td>\n",
              "      <td>0.000000</td>\n",
              "      <td>0.000000</td>\n",
              "      <td>...</td>\n",
              "      <td>0.000000</td>\n",
              "      <td>0.000000</td>\n",
              "      <td>0.000000</td>\n",
              "      <td>0.000000</td>\n",
              "      <td>0.000000</td>\n",
              "      <td>0.000000</td>\n",
              "      <td>0.000000</td>\n",
              "      <td>0.000000</td>\n",
              "      <td>0.000000</td>\n",
              "      <td>0.000000</td>\n",
              "    </tr>\n",
              "    <tr>\n",
              "      <th>25%</th>\n",
              "      <td>0.000000</td>\n",
              "      <td>0.000000e+00</td>\n",
              "      <td>0.000000e+00</td>\n",
              "      <td>0.000000</td>\n",
              "      <td>0.000000</td>\n",
              "      <td>0.000000</td>\n",
              "      <td>0.000000</td>\n",
              "      <td>0.000000</td>\n",
              "      <td>0.000000</td>\n",
              "      <td>0.000000</td>\n",
              "      <td>...</td>\n",
              "      <td>121.000000</td>\n",
              "      <td>15.000000</td>\n",
              "      <td>0.070000</td>\n",
              "      <td>0.000000</td>\n",
              "      <td>0.000000</td>\n",
              "      <td>0.000000</td>\n",
              "      <td>0.000000</td>\n",
              "      <td>0.000000</td>\n",
              "      <td>0.000000</td>\n",
              "      <td>0.000000</td>\n",
              "    </tr>\n",
              "    <tr>\n",
              "      <th>50%</th>\n",
              "      <td>0.000000</td>\n",
              "      <td>5.400000e+01</td>\n",
              "      <td>4.600000e+01</td>\n",
              "      <td>0.000000</td>\n",
              "      <td>0.000000</td>\n",
              "      <td>0.000000</td>\n",
              "      <td>0.000000</td>\n",
              "      <td>0.000000</td>\n",
              "      <td>0.000000</td>\n",
              "      <td>0.000000</td>\n",
              "      <td>...</td>\n",
              "      <td>255.000000</td>\n",
              "      <td>168.000000</td>\n",
              "      <td>0.920000</td>\n",
              "      <td>0.010000</td>\n",
              "      <td>0.000000</td>\n",
              "      <td>0.000000</td>\n",
              "      <td>0.000000</td>\n",
              "      <td>0.000000</td>\n",
              "      <td>0.000000</td>\n",
              "      <td>0.000000</td>\n",
              "    </tr>\n",
              "    <tr>\n",
              "      <th>75%</th>\n",
              "      <td>0.000000</td>\n",
              "      <td>2.870000e+02</td>\n",
              "      <td>6.010000e+02</td>\n",
              "      <td>0.000000</td>\n",
              "      <td>0.000000</td>\n",
              "      <td>0.000000</td>\n",
              "      <td>0.000000</td>\n",
              "      <td>0.000000</td>\n",
              "      <td>1.000000</td>\n",
              "      <td>0.000000</td>\n",
              "      <td>...</td>\n",
              "      <td>255.000000</td>\n",
              "      <td>255.000000</td>\n",
              "      <td>1.000000</td>\n",
              "      <td>0.060000</td>\n",
              "      <td>0.030000</td>\n",
              "      <td>0.010000</td>\n",
              "      <td>0.000000</td>\n",
              "      <td>0.000000</td>\n",
              "      <td>0.360000</td>\n",
              "      <td>0.170000</td>\n",
              "    </tr>\n",
              "    <tr>\n",
              "      <th>max</th>\n",
              "      <td>57715.000000</td>\n",
              "      <td>6.282565e+07</td>\n",
              "      <td>1.345927e+06</td>\n",
              "      <td>1.000000</td>\n",
              "      <td>3.000000</td>\n",
              "      <td>3.000000</td>\n",
              "      <td>101.000000</td>\n",
              "      <td>4.000000</td>\n",
              "      <td>1.000000</td>\n",
              "      <td>796.000000</td>\n",
              "      <td>...</td>\n",
              "      <td>255.000000</td>\n",
              "      <td>255.000000</td>\n",
              "      <td>1.000000</td>\n",
              "      <td>1.000000</td>\n",
              "      <td>1.000000</td>\n",
              "      <td>1.000000</td>\n",
              "      <td>1.000000</td>\n",
              "      <td>1.000000</td>\n",
              "      <td>1.000000</td>\n",
              "      <td>1.000000</td>\n",
              "    </tr>\n",
              "  </tbody>\n",
              "</table>\n",
              "<p>8 rows × 38 columns</p>\n",
              "</div>"
            ],
            "text/plain": [
              "           duration     src_bytes     dst_bytes          land  wrong_fragment  \\\n",
              "count  22544.000000  2.254400e+04  2.254400e+04  22544.000000    22544.000000   \n",
              "mean     218.859076  1.039545e+04  2.056019e+03      0.000311        0.008428   \n",
              "std     1407.176612  4.727864e+05  2.121930e+04      0.017619        0.142599   \n",
              "min        0.000000  0.000000e+00  0.000000e+00      0.000000        0.000000   \n",
              "25%        0.000000  0.000000e+00  0.000000e+00      0.000000        0.000000   \n",
              "50%        0.000000  5.400000e+01  4.600000e+01      0.000000        0.000000   \n",
              "75%        0.000000  2.870000e+02  6.010000e+02      0.000000        0.000000   \n",
              "max    57715.000000  6.282565e+07  1.345927e+06      1.000000        3.000000   \n",
              "\n",
              "             urgent           hot  num_failed_logins     logged_in  \\\n",
              "count  22544.000000  22544.000000       22544.000000  22544.000000   \n",
              "mean       0.000710      0.105394           0.021647      0.442202   \n",
              "std        0.036473      0.928428           0.150328      0.496659   \n",
              "min        0.000000      0.000000           0.000000      0.000000   \n",
              "25%        0.000000      0.000000           0.000000      0.000000   \n",
              "50%        0.000000      0.000000           0.000000      0.000000   \n",
              "75%        0.000000      0.000000           0.000000      1.000000   \n",
              "max        3.000000    101.000000           4.000000      1.000000   \n",
              "\n",
              "       num_compromised  ...  dst_host_count  dst_host_srv_count  \\\n",
              "count     22544.000000  ...    22544.000000        22544.000000   \n",
              "mean          0.119899  ...      193.869411          140.750532   \n",
              "std           7.269597  ...       94.035663          111.783972   \n",
              "min           0.000000  ...        0.000000            0.000000   \n",
              "25%           0.000000  ...      121.000000           15.000000   \n",
              "50%           0.000000  ...      255.000000          168.000000   \n",
              "75%           0.000000  ...      255.000000          255.000000   \n",
              "max         796.000000  ...      255.000000          255.000000   \n",
              "\n",
              "       dst_host_same_srv_rate  dst_host_diff_srv_rate  \\\n",
              "count            22544.000000            22544.000000   \n",
              "mean                 0.608722                0.090540   \n",
              "std                  0.435688                0.220717   \n",
              "min                  0.000000                0.000000   \n",
              "25%                  0.070000                0.000000   \n",
              "50%                  0.920000                0.010000   \n",
              "75%                  1.000000                0.060000   \n",
              "max                  1.000000                1.000000   \n",
              "\n",
              "       dst_host_same_src_port_rate  dst_host_srv_diff_host_rate  \\\n",
              "count                 22544.000000                 22544.000000   \n",
              "mean                      0.132261                     0.019638   \n",
              "std                       0.306268                     0.085394   \n",
              "min                       0.000000                     0.000000   \n",
              "25%                       0.000000                     0.000000   \n",
              "50%                       0.000000                     0.000000   \n",
              "75%                       0.030000                     0.010000   \n",
              "max                       1.000000                     1.000000   \n",
              "\n",
              "       dst_host_serror_rate  dst_host_srv_serror_rate  dst_host_rerror_rate  \\\n",
              "count          22544.000000              22544.000000          22544.000000   \n",
              "mean               0.097814                  0.099426              0.233385   \n",
              "std                0.273139                  0.281866              0.387229   \n",
              "min                0.000000                  0.000000              0.000000   \n",
              "25%                0.000000                  0.000000              0.000000   \n",
              "50%                0.000000                  0.000000              0.000000   \n",
              "75%                0.000000                  0.000000              0.360000   \n",
              "max                1.000000                  1.000000              1.000000   \n",
              "\n",
              "       dst_host_srv_rerror_rate  \n",
              "count              22544.000000  \n",
              "mean                   0.226683  \n",
              "std                    0.400875  \n",
              "min                    0.000000  \n",
              "25%                    0.000000  \n",
              "50%                    0.000000  \n",
              "75%                    0.170000  \n",
              "max                    1.000000  \n",
              "\n",
              "[8 rows x 38 columns]"
            ]
          },
          "execution_count": 35,
          "metadata": {},
          "output_type": "execute_result"
        }
      ],
      "source": [
        "train.describe()"
      ]
    },
    {
      "cell_type": "code",
      "execution_count": 36,
      "metadata": {
        "colab": {
          "base_uri": "https://localhost:8080/",
          "height": 175
        },
        "id": "EGiHa--gWGlh",
        "outputId": "df0825c7-4f70-420c-eaf4-67f27f8e0eaf"
      },
      "outputs": [
        {
          "data": {
            "text/html": [
              "<div>\n",
              "<style scoped>\n",
              "    .dataframe tbody tr th:only-of-type {\n",
              "        vertical-align: middle;\n",
              "    }\n",
              "\n",
              "    .dataframe tbody tr th {\n",
              "        vertical-align: top;\n",
              "    }\n",
              "\n",
              "    .dataframe thead th {\n",
              "        text-align: right;\n",
              "    }\n",
              "</style>\n",
              "<table border=\"1\" class=\"dataframe\">\n",
              "  <thead>\n",
              "    <tr style=\"text-align: right;\">\n",
              "      <th></th>\n",
              "      <th>protocol_type</th>\n",
              "      <th>service</th>\n",
              "      <th>flag</th>\n",
              "    </tr>\n",
              "  </thead>\n",
              "  <tbody>\n",
              "    <tr>\n",
              "      <th>count</th>\n",
              "      <td>22544</td>\n",
              "      <td>22544</td>\n",
              "      <td>22544</td>\n",
              "    </tr>\n",
              "    <tr>\n",
              "      <th>unique</th>\n",
              "      <td>3</td>\n",
              "      <td>64</td>\n",
              "      <td>11</td>\n",
              "    </tr>\n",
              "    <tr>\n",
              "      <th>top</th>\n",
              "      <td>tcp</td>\n",
              "      <td>http</td>\n",
              "      <td>SF</td>\n",
              "    </tr>\n",
              "    <tr>\n",
              "      <th>freq</th>\n",
              "      <td>18880</td>\n",
              "      <td>7853</td>\n",
              "      <td>14875</td>\n",
              "    </tr>\n",
              "  </tbody>\n",
              "</table>\n",
              "</div>"
            ],
            "text/plain": [
              "       protocol_type service   flag\n",
              "count          22544   22544  22544\n",
              "unique             3      64     11\n",
              "top              tcp    http     SF\n",
              "freq           18880    7853  14875"
            ]
          },
          "execution_count": 36,
          "metadata": {},
          "output_type": "execute_result"
        }
      ],
      "source": [
        "train.describe(include='object')"
      ]
    },
    {
      "cell_type": "code",
      "execution_count": 37,
      "metadata": {
        "colab": {
          "base_uri": "https://localhost:8080/"
        },
        "id": "rFl859YOWKcW",
        "outputId": "8ae14a39-4441-43d7-e310-70556d7ee94c"
      },
      "outputs": [
        {
          "data": {
            "text/plain": [
              "(22544, 41)"
            ]
          },
          "execution_count": 37,
          "metadata": {},
          "output_type": "execute_result"
        }
      ],
      "source": [
        "train.shape"
      ]
    },
    {
      "cell_type": "code",
      "execution_count": 73,
      "metadata": {
        "colab": {
          "base_uri": "https://localhost:8080/",
          "height": 1000
        },
        "id": "EKFrn7fyWTJy",
        "outputId": "aa1cb4a5-45d8-49e3-b281-76dba1c5844e"
      },
      "outputs": [
        {
          "data": {
            "text/plain": [
              "duration                       0\n",
              "protocol_type                  0\n",
              "service                        0\n",
              "flag                           0\n",
              "src_bytes                      0\n",
              "dst_bytes                      0\n",
              "land                           0\n",
              "wrong_fragment                 0\n",
              "urgent                         0\n",
              "hot                            0\n",
              "num_failed_logins              0\n",
              "logged_in                      0\n",
              "num_compromised                0\n",
              "root_shell                     0\n",
              "su_attempted                   0\n",
              "num_root                       0\n",
              "num_file_creations             0\n",
              "num_shells                     0\n",
              "num_access_files               0\n",
              "num_outbound_cmds              0\n",
              "is_host_login                  0\n",
              "is_guest_login                 0\n",
              "count                          0\n",
              "srv_count                      0\n",
              "serror_rate                    0\n",
              "srv_serror_rate                0\n",
              "rerror_rate                    0\n",
              "srv_rerror_rate                0\n",
              "same_srv_rate                  0\n",
              "diff_srv_rate                  0\n",
              "srv_diff_host_rate             0\n",
              "dst_host_count                 0\n",
              "dst_host_srv_count             0\n",
              "dst_host_same_srv_rate         0\n",
              "dst_host_diff_srv_rate         0\n",
              "dst_host_same_src_port_rate    0\n",
              "dst_host_srv_diff_host_rate    0\n",
              "dst_host_serror_rate           0\n",
              "dst_host_srv_serror_rate       0\n",
              "dst_host_rerror_rate           0\n",
              "dst_host_srv_rerror_rate       0\n",
              "class                          0\n",
              "dtype: int64"
            ]
          },
          "execution_count": 73,
          "metadata": {},
          "output_type": "execute_result"
        }
      ],
      "source": [
        "train.isnull().sum()"
      ]
    },
    {
      "cell_type": "code",
      "execution_count": 74,
      "metadata": {
        "id": "OabOI5SGB4Qs"
      },
      "outputs": [],
      "source": [
        "total = train.shape[0]\n",
        "missing_columns = [col for col in train.columns if train[col].isnull().sum() > 0]\n",
        "for col in missing_columns:\n",
        "    null_count = train[col].isnull().sum()\n",
        "    per = (null_count/total) * 100\n",
        "    print(f\"{col}: {null_count} ({round(per, 3)}%)\")"
      ]
    },
    {
      "cell_type": "code",
      "execution_count": 75,
      "metadata": {
        "colab": {
          "base_uri": "https://localhost:8080/"
        },
        "id": "PXHJVbd4B-RE",
        "outputId": "6abae6f8-5a36-4095-9b0e-3acbb7d370d9"
      },
      "outputs": [
        {
          "name": "stdout",
          "output_type": "stream",
          "text": [
            "Number of duplicate rows: 0\n"
          ]
        }
      ],
      "source": [
        "print(f\"Number of duplicate rows: {train.duplicated().sum()}\")"
      ]
    },
    {
      "cell_type": "code",
      "execution_count": 76,
      "metadata": {},
      "outputs": [
        {
          "name": "stdout",
          "output_type": "stream",
          "text": [
            "Number of duplicate rows after removal: 0\n"
          ]
        }
      ],
      "source": [
        "# Remove duplicate rows\n",
        "train_cleaned = train.drop_duplicates()\n",
        "\n",
        "# Check the new number of duplicate rows\n",
        "print(f\"Number of duplicate rows after removal: {train_cleaned.duplicated().sum()}\")\n"
      ]
    },
    {
      "cell_type": "code",
      "execution_count": 77,
      "metadata": {},
      "outputs": [
        {
          "name": "stdout",
          "output_type": "stream",
          "text": [
            "Index(['duration', 'protocol_type', 'service', 'flag', 'src_bytes',\n",
            "       'dst_bytes', 'land', 'wrong_fragment', 'urgent', 'hot',\n",
            "       'num_failed_logins', 'logged_in', 'num_compromised', 'root_shell',\n",
            "       'su_attempted', 'num_root', 'num_file_creations', 'num_shells',\n",
            "       'num_access_files', 'num_outbound_cmds', 'is_host_login',\n",
            "       'is_guest_login', 'count', 'srv_count', 'serror_rate',\n",
            "       'srv_serror_rate', 'rerror_rate', 'srv_rerror_rate', 'same_srv_rate',\n",
            "       'diff_srv_rate', 'srv_diff_host_rate', 'dst_host_count',\n",
            "       'dst_host_srv_count', 'dst_host_same_srv_rate',\n",
            "       'dst_host_diff_srv_rate', 'dst_host_same_src_port_rate',\n",
            "       'dst_host_srv_diff_host_rate', 'dst_host_serror_rate',\n",
            "       'dst_host_srv_serror_rate', 'dst_host_rerror_rate',\n",
            "       'dst_host_srv_rerror_rate', 'class'],\n",
            "      dtype='object')\n"
          ]
        }
      ],
      "source": [
        "print(train.columns)"
      ]
    },
    {
      "cell_type": "code",
      "execution_count": 78,
      "metadata": {},
      "outputs": [
        {
          "name": "stdout",
          "output_type": "stream",
          "text": [
            "Index(['duration', 'protocol_type', 'service', 'flag', 'src_bytes',\n",
            "       'dst_bytes', 'land', 'wrong_fragment', 'urgent', 'hot',\n",
            "       'num_failed_logins', 'logged_in', 'num_compromised', 'root_shell',\n",
            "       'su_attempted', 'num_root', 'num_file_creations', 'num_shells',\n",
            "       'num_access_files', 'num_outbound_cmds', 'is_host_login',\n",
            "       'is_guest_login', 'count', 'srv_count', 'serror_rate',\n",
            "       'srv_serror_rate', 'rerror_rate', 'srv_rerror_rate', 'same_srv_rate',\n",
            "       'diff_srv_rate', 'srv_diff_host_rate', 'dst_host_count',\n",
            "       'dst_host_srv_count', 'dst_host_same_srv_rate',\n",
            "       'dst_host_diff_srv_rate', 'dst_host_same_src_port_rate',\n",
            "       'dst_host_srv_diff_host_rate', 'dst_host_serror_rate',\n",
            "       'dst_host_srv_serror_rate', 'dst_host_rerror_rate',\n",
            "       'dst_host_srv_rerror_rate', 'class'],\n",
            "      dtype='object')\n"
          ]
        }
      ],
      "source": [
        "print(train.columns)\n"
      ]
    },
    {
      "cell_type": "code",
      "execution_count": 79,
      "metadata": {},
      "outputs": [],
      "source": [
        "train.columns = train.columns.str.strip()"
      ]
    },
    {
      "cell_type": "code",
      "execution_count": 80,
      "metadata": {},
      "outputs": [
        {
          "name": "stdout",
          "output_type": "stream",
          "text": [
            "   duration protocol_type   service flag  src_bytes  dst_bytes  land  \\\n",
            "0         0           tcp  ftp_data   SF        491          0     0   \n",
            "1         0           udp     other   SF        146          0     0   \n",
            "2         0           tcp   private   S0          0          0     0   \n",
            "3         0           tcp      http   SF        232       8153     0   \n",
            "4         0           tcp      http   SF        199        420     0   \n",
            "\n",
            "   wrong_fragment  urgent  hot  ...  dst_host_srv_count  \\\n",
            "0               0       0    0  ...                  25   \n",
            "1               0       0    0  ...                   1   \n",
            "2               0       0    0  ...                  26   \n",
            "3               0       0    0  ...                 255   \n",
            "4               0       0    0  ...                 255   \n",
            "\n",
            "   dst_host_same_srv_rate  dst_host_diff_srv_rate  \\\n",
            "0                    0.17                    0.03   \n",
            "1                    0.00                    0.60   \n",
            "2                    0.10                    0.05   \n",
            "3                    1.00                    0.00   \n",
            "4                    1.00                    0.00   \n",
            "\n",
            "   dst_host_same_src_port_rate  dst_host_srv_diff_host_rate  \\\n",
            "0                         0.17                         0.00   \n",
            "1                         0.88                         0.00   \n",
            "2                         0.00                         0.00   \n",
            "3                         0.03                         0.04   \n",
            "4                         0.00                         0.00   \n",
            "\n",
            "   dst_host_serror_rate  dst_host_srv_serror_rate  dst_host_rerror_rate  \\\n",
            "0                  0.00                      0.00                  0.05   \n",
            "1                  0.00                      0.00                  0.00   \n",
            "2                  1.00                      1.00                  0.00   \n",
            "3                  0.03                      0.01                  0.00   \n",
            "4                  0.00                      0.00                  0.00   \n",
            "\n",
            "   dst_host_srv_rerror_rate    class  \n",
            "0                      0.00   normal  \n",
            "1                      0.00   normal  \n",
            "2                      0.00  anomaly  \n",
            "3                      0.01   normal  \n",
            "4                      0.00   normal  \n",
            "\n",
            "[5 rows x 42 columns]\n"
          ]
        }
      ],
      "source": [
        "print(train.head())\n"
      ]
    },
    {
      "cell_type": "code",
      "execution_count": 81,
      "metadata": {},
      "outputs": [
        {
          "name": "stdout",
          "output_type": "stream",
          "text": [
            "(25192, 42)\n",
            "<class 'pandas.core.frame.DataFrame'>\n",
            "RangeIndex: 25192 entries, 0 to 25191\n",
            "Data columns (total 42 columns):\n",
            " #   Column                       Non-Null Count  Dtype  \n",
            "---  ------                       --------------  -----  \n",
            " 0   duration                     25192 non-null  int64  \n",
            " 1   protocol_type                25192 non-null  object \n",
            " 2   service                      25192 non-null  object \n",
            " 3   flag                         25192 non-null  object \n",
            " 4   src_bytes                    25192 non-null  int64  \n",
            " 5   dst_bytes                    25192 non-null  int64  \n",
            " 6   land                         25192 non-null  int64  \n",
            " 7   wrong_fragment               25192 non-null  int64  \n",
            " 8   urgent                       25192 non-null  int64  \n",
            " 9   hot                          25192 non-null  int64  \n",
            " 10  num_failed_logins            25192 non-null  int64  \n",
            " 11  logged_in                    25192 non-null  int64  \n",
            " 12  num_compromised              25192 non-null  int64  \n",
            " 13  root_shell                   25192 non-null  int64  \n",
            " 14  su_attempted                 25192 non-null  int64  \n",
            " 15  num_root                     25192 non-null  int64  \n",
            " 16  num_file_creations           25192 non-null  int64  \n",
            " 17  num_shells                   25192 non-null  int64  \n",
            " 18  num_access_files             25192 non-null  int64  \n",
            " 19  num_outbound_cmds            25192 non-null  int64  \n",
            " 20  is_host_login                25192 non-null  int64  \n",
            " 21  is_guest_login               25192 non-null  int64  \n",
            " 22  count                        25192 non-null  int64  \n",
            " 23  srv_count                    25192 non-null  int64  \n",
            " 24  serror_rate                  25192 non-null  float64\n",
            " 25  srv_serror_rate              25192 non-null  float64\n",
            " 26  rerror_rate                  25192 non-null  float64\n",
            " 27  srv_rerror_rate              25192 non-null  float64\n",
            " 28  same_srv_rate                25192 non-null  float64\n",
            " 29  diff_srv_rate                25192 non-null  float64\n",
            " 30  srv_diff_host_rate           25192 non-null  float64\n",
            " 31  dst_host_count               25192 non-null  int64  \n",
            " 32  dst_host_srv_count           25192 non-null  int64  \n",
            " 33  dst_host_same_srv_rate       25192 non-null  float64\n",
            " 34  dst_host_diff_srv_rate       25192 non-null  float64\n",
            " 35  dst_host_same_src_port_rate  25192 non-null  float64\n",
            " 36  dst_host_srv_diff_host_rate  25192 non-null  float64\n",
            " 37  dst_host_serror_rate         25192 non-null  float64\n",
            " 38  dst_host_srv_serror_rate     25192 non-null  float64\n",
            " 39  dst_host_rerror_rate         25192 non-null  float64\n",
            " 40  dst_host_srv_rerror_rate     25192 non-null  float64\n",
            " 41  class                        25192 non-null  object \n",
            "dtypes: float64(15), int64(23), object(4)\n",
            "memory usage: 8.1+ MB\n",
            "None\n"
          ]
        }
      ],
      "source": [
        "print(train.shape)\n",
        "print(train.info())\n"
      ]
    },
    {
      "cell_type": "code",
      "execution_count": 82,
      "metadata": {},
      "outputs": [],
      "source": [
        "from sklearn.preprocessing import StandardScaler\n",
        "scaler=StandardScaler()"
      ]
    },
    {
      "cell_type": "code",
      "execution_count": 92,
      "metadata": {
        "colab": {
          "base_uri": "https://localhost:8080/",
          "height": 469
        },
        "id": "op0OfFS0CDsX",
        "outputId": "5c411b24-c1b2-4151-d59d-826c349e7195"
      },
      "outputs": [
        {
          "data": {
            "text/plain": [
              "<Axes: xlabel='class', ylabel='count'>"
            ]
          },
          "execution_count": 92,
          "metadata": {},
          "output_type": "execute_result"
        },
        {
          "data": {
            "image/png": "[encoded data removed]",
            "text/plain": [
              "<Figure size 640x480 with 1 Axes>"
            ]
          },
          "metadata": {},
          "output_type": "display_data"
        }
      ],
      "source": [
        "sns.countplot(x=train['class'])\n"
      ]
    },
    {
      "cell_type": "code",
      "execution_count": 93,
      "metadata": {
        "colab": {
          "base_uri": "https://localhost:8080/"
        },
        "id": "-ExlPfKQWZOZ",
        "outputId": "b71d13da-8f90-4720-cf78-a69483e1078a"
      },
      "outputs": [
        {
          "name": "stdout",
          "output_type": "stream",
          "text": [
            "Class distribution Training set:\n",
            "class\n",
            "normal     13449\n",
            "anomaly    11743\n",
            "Name: count, dtype: int64\n"
          ]
        }
      ],
      "source": [
        "print('Class distribution Training set:')\n",
        "print(train['class'].value_counts())"
      ]
    },
    {
      "cell_type": "code",
      "execution_count": 102,
      "metadata": {
        "id": "lm0pcky1Wsmh"
      },
      "outputs": [],
      "source": [
        "def le(df):\n",
        "    for col in df.columns:\n",
        "        if df[col].dtype == 'object':\n",
        "                label_encoder = LabelEncoder()\n",
        "                df[col] = label_encoder.fit_transform(df[col])\n",
        "\n",
        "le(train)\n",
        "le(test)"
      ]
    },
    {
      "cell_type": "code",
      "execution_count": 104,
      "metadata": {
        "id": "oZGaq2aQHW0x"
      },
      "outputs": [],
      "source": [
        "train.drop(['num_outbound_cmds'], axis=1, inplace=True, errors='ignore')\n",
        "test.drop(['num_outbound_cmds'], axis=1, inplace=True, errors='ignore')\n"
      ]
    },
    {
      "cell_type": "code",
      "execution_count": 55,
      "metadata": {
        "colab": {
          "base_uri": "https://localhost:8080/",
          "height": 255
        },
        "id": "4VZ9PSX8HbZ8",
        "outputId": "3d7c6f6d-d057-455f-e6eb-425497ff1ebf"
      },
      "outputs": [
        {
          "data": {
            "text/html": [
              "<div>\n",
              "<style scoped>\n",
              "    .dataframe tbody tr th:only-of-type {\n",
              "        vertical-align: middle;\n",
              "    }\n",
              "\n",
              "    .dataframe tbody tr th {\n",
              "        vertical-align: top;\n",
              "    }\n",
              "\n",
              "    .dataframe thead th {\n",
              "        text-align: right;\n",
              "    }\n",
              "</style>\n",
              "<table border=\"1\" class=\"dataframe\">\n",
              "  <thead>\n",
              "    <tr style=\"text-align: right;\">\n",
              "      <th></th>\n",
              "      <th>duration</th>\n",
              "      <th>protocol_type</th>\n",
              "      <th>service</th>\n",
              "      <th>flag</th>\n",
              "      <th>src_bytes</th>\n",
              "      <th>dst_bytes</th>\n",
              "      <th>land</th>\n",
              "      <th>wrong_fragment</th>\n",
              "      <th>urgent</th>\n",
              "      <th>hot</th>\n",
              "      <th>...</th>\n",
              "      <th>dst_host_count</th>\n",
              "      <th>dst_host_srv_count</th>\n",
              "      <th>dst_host_same_srv_rate</th>\n",
              "      <th>dst_host_diff_srv_rate</th>\n",
              "      <th>dst_host_same_src_port_rate</th>\n",
              "      <th>dst_host_srv_diff_host_rate</th>\n",
              "      <th>dst_host_serror_rate</th>\n",
              "      <th>dst_host_srv_serror_rate</th>\n",
              "      <th>dst_host_rerror_rate</th>\n",
              "      <th>dst_host_srv_rerror_rate</th>\n",
              "    </tr>\n",
              "  </thead>\n",
              "  <tbody>\n",
              "    <tr>\n",
              "      <th>0</th>\n",
              "      <td>0</td>\n",
              "      <td>1</td>\n",
              "      <td>45</td>\n",
              "      <td>1</td>\n",
              "      <td>0</td>\n",
              "      <td>0</td>\n",
              "      <td>0</td>\n",
              "      <td>0</td>\n",
              "      <td>0</td>\n",
              "      <td>0</td>\n",
              "      <td>...</td>\n",
              "      <td>255</td>\n",
              "      <td>10</td>\n",
              "      <td>0.04</td>\n",
              "      <td>0.06</td>\n",
              "      <td>0.00</td>\n",
              "      <td>0.00</td>\n",
              "      <td>0.0</td>\n",
              "      <td>0.0</td>\n",
              "      <td>1.00</td>\n",
              "      <td>1.00</td>\n",
              "    </tr>\n",
              "    <tr>\n",
              "      <th>1</th>\n",
              "      <td>0</td>\n",
              "      <td>1</td>\n",
              "      <td>45</td>\n",
              "      <td>1</td>\n",
              "      <td>0</td>\n",
              "      <td>0</td>\n",
              "      <td>0</td>\n",
              "      <td>0</td>\n",
              "      <td>0</td>\n",
              "      <td>0</td>\n",
              "      <td>...</td>\n",
              "      <td>255</td>\n",
              "      <td>1</td>\n",
              "      <td>0.00</td>\n",
              "      <td>0.06</td>\n",
              "      <td>0.00</td>\n",
              "      <td>0.00</td>\n",
              "      <td>0.0</td>\n",
              "      <td>0.0</td>\n",
              "      <td>1.00</td>\n",
              "      <td>1.00</td>\n",
              "    </tr>\n",
              "    <tr>\n",
              "      <th>2</th>\n",
              "      <td>2</td>\n",
              "      <td>1</td>\n",
              "      <td>19</td>\n",
              "      <td>9</td>\n",
              "      <td>12983</td>\n",
              "      <td>0</td>\n",
              "      <td>0</td>\n",
              "      <td>0</td>\n",
              "      <td>0</td>\n",
              "      <td>0</td>\n",
              "      <td>...</td>\n",
              "      <td>134</td>\n",
              "      <td>86</td>\n",
              "      <td>0.61</td>\n",
              "      <td>0.04</td>\n",
              "      <td>0.61</td>\n",
              "      <td>0.02</td>\n",
              "      <td>0.0</td>\n",
              "      <td>0.0</td>\n",
              "      <td>0.00</td>\n",
              "      <td>0.00</td>\n",
              "    </tr>\n",
              "    <tr>\n",
              "      <th>3</th>\n",
              "      <td>0</td>\n",
              "      <td>0</td>\n",
              "      <td>13</td>\n",
              "      <td>9</td>\n",
              "      <td>20</td>\n",
              "      <td>0</td>\n",
              "      <td>0</td>\n",
              "      <td>0</td>\n",
              "      <td>0</td>\n",
              "      <td>0</td>\n",
              "      <td>...</td>\n",
              "      <td>3</td>\n",
              "      <td>57</td>\n",
              "      <td>1.00</td>\n",
              "      <td>0.00</td>\n",
              "      <td>1.00</td>\n",
              "      <td>0.28</td>\n",
              "      <td>0.0</td>\n",
              "      <td>0.0</td>\n",
              "      <td>0.00</td>\n",
              "      <td>0.00</td>\n",
              "    </tr>\n",
              "    <tr>\n",
              "      <th>4</th>\n",
              "      <td>1</td>\n",
              "      <td>1</td>\n",
              "      <td>55</td>\n",
              "      <td>2</td>\n",
              "      <td>0</td>\n",
              "      <td>15</td>\n",
              "      <td>0</td>\n",
              "      <td>0</td>\n",
              "      <td>0</td>\n",
              "      <td>0</td>\n",
              "      <td>...</td>\n",
              "      <td>29</td>\n",
              "      <td>86</td>\n",
              "      <td>0.31</td>\n",
              "      <td>0.17</td>\n",
              "      <td>0.03</td>\n",
              "      <td>0.02</td>\n",
              "      <td>0.0</td>\n",
              "      <td>0.0</td>\n",
              "      <td>0.83</td>\n",
              "      <td>0.71</td>\n",
              "    </tr>\n",
              "  </tbody>\n",
              "</table>\n",
              "<p>5 rows × 40 columns</p>\n",
              "</div>"
            ],
            "text/plain": [
              "   duration  protocol_type  service  flag  src_bytes  dst_bytes  land  \\\n",
              "0         0              1       45     1          0          0     0   \n",
              "1         0              1       45     1          0          0     0   \n",
              "2         2              1       19     9      12983          0     0   \n",
              "3         0              0       13     9         20          0     0   \n",
              "4         1              1       55     2          0         15     0   \n",
              "\n",
              "   wrong_fragment  urgent  hot  ...  dst_host_count  dst_host_srv_count  \\\n",
              "0               0       0    0  ...             255                  10   \n",
              "1               0       0    0  ...             255                   1   \n",
              "2               0       0    0  ...             134                  86   \n",
              "3               0       0    0  ...               3                  57   \n",
              "4               0       0    0  ...              29                  86   \n",
              "\n",
              "   dst_host_same_srv_rate  dst_host_diff_srv_rate  \\\n",
              "0                    0.04                    0.06   \n",
              "1                    0.00                    0.06   \n",
              "2                    0.61                    0.04   \n",
              "3                    1.00                    0.00   \n",
              "4                    0.31                    0.17   \n",
              "\n",
              "   dst_host_same_src_port_rate  dst_host_srv_diff_host_rate  \\\n",
              "0                         0.00                         0.00   \n",
              "1                         0.00                         0.00   \n",
              "2                         0.61                         0.02   \n",
              "3                         1.00                         0.28   \n",
              "4                         0.03                         0.02   \n",
              "\n",
              "   dst_host_serror_rate  dst_host_srv_serror_rate  dst_host_rerror_rate  \\\n",
              "0                   0.0                       0.0                  1.00   \n",
              "1                   0.0                       0.0                  1.00   \n",
              "2                   0.0                       0.0                  0.00   \n",
              "3                   0.0                       0.0                  0.00   \n",
              "4                   0.0                       0.0                  0.83   \n",
              "\n",
              "   dst_host_srv_rerror_rate  \n",
              "0                      1.00  \n",
              "1                      1.00  \n",
              "2                      0.00  \n",
              "3                      0.00  \n",
              "4                      0.71  \n",
              "\n",
              "[5 rows x 40 columns]"
            ]
          },
          "execution_count": 55,
          "metadata": {},
          "output_type": "execute_result"
        }
      ],
      "source": [
        "train.head()"
      ]
    },
    {
      "cell_type": "code",
      "execution_count": 105,
      "metadata": {
        "id": "RkUF2v_zHdIu"
      },
      "outputs": [],
      "source": [
        "X_train = train.drop(['class'], axis=1)\n",
        "Y_train = train['class']"
      ]
    },
    {
      "cell_type": "code",
      "execution_count": 106,
      "metadata": {
        "colab": {
          "base_uri": "https://localhost:8080/"
        },
        "id": "_X4hu-14H-JC",
        "outputId": "f6bfafdb-c3d2-4365-afa8-2154c9a3658a"
      },
      "outputs": [
        {
          "data": {
            "text/plain": [
              "['protocol_type',\n",
              " 'service',\n",
              " 'flag',\n",
              " 'src_bytes',\n",
              " 'dst_bytes',\n",
              " 'count',\n",
              " 'same_srv_rate',\n",
              " 'diff_srv_rate',\n",
              " 'dst_host_srv_count',\n",
              " 'dst_host_same_srv_rate']"
            ]
          },
          "execution_count": 106,
          "metadata": {},
          "output_type": "execute_result"
        }
      ],
      "source": [
        "rfc = RandomForestClassifier()\n",
        "\n",
        "rfe = RFE(rfc, n_features_to_select=10)\n",
        "rfe = rfe.fit(X_train, Y_train)\n",
        "\n",
        "feature_map = [(i, v) for i, v in itertools.zip_longest(rfe.get_support(), X_train.columns)]\n",
        "selected_features = [v for i, v in feature_map if i==True]\n",
        "\n",
        "selected_features"
      ]
    },
    {
      "cell_type": "code",
      "execution_count": 108,
      "metadata": {
        "id": "5SJWi_drIAH9"
      },
      "outputs": [],
      "source": [
        "X_train = X_train[selected_features]"
      ]
    },
    {
      "cell_type": "code",
      "execution_count": 109,
      "metadata": {
        "id": "XybAX9KHKMNF"
      },
      "outputs": [],
      "source": [
        "scale = StandardScaler()\n",
        "X_train = scale.fit_transform(X_train)\n",
        "test = scale.fit_transform(test)"
      ]
    },
    {
      "cell_type": "code",
      "execution_count": 110,
      "metadata": {
        "id": "oFgPph7BKQPy"
      },
      "outputs": [],
      "source": [
        "x_train, x_test, y_train, y_test = train_test_split(X_train, Y_train, train_size=0.70, random_state=2)"
      ]
    },
    {
      "cell_type": "code",
      "execution_count": 111,
      "metadata": {
        "colab": {
          "base_uri": "https://localhost:8080/"
        },
        "id": "SEfEZ0XNPxHW",
        "outputId": "5d3319b8-d06a-45dc-e98d-1ad809d3ff2b"
      },
      "outputs": [
        {
          "data": {
            "text/plain": [
              "(17634, 10)"
            ]
          },
          "execution_count": 111,
          "metadata": {},
          "output_type": "execute_result"
        }
      ],
      "source": [
        "x_train.shape"
      ]
    },
    {
      "cell_type": "code",
      "execution_count": 112,
      "metadata": {
        "colab": {
          "base_uri": "https://localhost:8080/"
        },
        "id": "fpuItU4YP6GI",
        "outputId": "32a91ddf-0528-46b5-f80b-9e22303b7f04"
      },
      "outputs": [
        {
          "data": {
            "text/plain": [
              "(7558, 10)"
            ]
          },
          "execution_count": 112,
          "metadata": {},
          "output_type": "execute_result"
        }
      ],
      "source": [
        "x_test.shape"
      ]
    },
    {
      "cell_type": "code",
      "execution_count": 113,
      "metadata": {
        "colab": {
          "base_uri": "https://localhost:8080/"
        },
        "id": "uoPQFo8OP8mV",
        "outputId": "be6ab500-2e9f-4206-8cd4-82803fb9bf15"
      },
      "outputs": [
        {
          "data": {
            "text/plain": [
              "(17634,)"
            ]
          },
          "execution_count": 113,
          "metadata": {},
          "output_type": "execute_result"
        }
      ],
      "source": [
        "y_train.shape"
      ]
    },
    {
      "cell_type": "code",
      "execution_count": 145,
      "metadata": {
        "colab": {
          "base_uri": "https://localhost:8080/"
        },
        "id": "SkZ7g6NJP__q",
        "outputId": "51343dae-0da4-41c0-af5f-138a2ff7c35c"
      },
      "outputs": [
        {
          "data": {
            "text/plain": [
              "(7558,)"
            ]
          },
          "execution_count": 145,
          "metadata": {},
          "output_type": "execute_result"
        }
      ],
      "source": [
        "y_test.shape"
      ]
    },
    {
      "cell_type": "code",
      "execution_count": 37,
      "metadata": {
        "id": "WWgEDZAAPePK"
      },
      "outputs": [],
      "source": []
    },
    {
      "cell_type": "code",
      "execution_count": 37,
      "metadata": {
        "id": "e5U4xJe3QCyB"
      },
      "outputs": [],
      "source": []
    },
    {
      "cell_type": "code",
      "execution_count": 115,
      "metadata": {
        "id": "Xk-loIvmPjJ7"
      },
      "outputs": [],
      "source": [
        "import time"
      ]
    },
    {
      "cell_type": "code",
      "execution_count": 116,
      "metadata": {
        "colab": {
          "base_uri": "https://localhost:8080/"
        },
        "id": "IoY0WU1cPe0a",
        "outputId": "ccee1d4d-c336-41b9-b345-bae45d45cf03"
      },
      "outputs": [
        {
          "name": "stdout",
          "output_type": "stream",
          "text": [
            "Training time:  0.07614612579345703\n"
          ]
        }
      ],
      "source": [
        "from sklearn.linear_model import LogisticRegression\n",
        "\n",
        "clfl = LogisticRegression(max_iter = 1200000)\n",
        "start_time = time.time()\n",
        "clfl.fit(x_train, y_train.values.ravel())\n",
        "end_time = time.time()\n",
        "print(\"Training time: \", end_time-start_time)\n"
      ]
    },
    {
      "cell_type": "code",
      "execution_count": 117,
      "metadata": {
        "colab": {
          "base_uri": "https://localhost:8080/"
        },
        "id": "mpBzmlzgQKXC",
        "outputId": "b14d2a42-1c57-4c1b-c7d4-73632ecc22ae"
      },
      "outputs": [
        {
          "name": "stdout",
          "output_type": "stream",
          "text": [
            "Testing time:  0.00491023063659668\n"
          ]
        }
      ],
      "source": [
        "start_time = time.time()\n",
        "y_test_pred = clfl.predict(x_train)\n",
        "end_time = time.time()\n",
        "print(\"Testing time: \", end_time-start_time)"
      ]
    },
    {
      "cell_type": "code",
      "execution_count": 118,
      "metadata": {
        "colab": {
          "base_uri": "https://localhost:8080/",
          "height": 80
        },
        "id": "PZtTjM0-KUpA",
        "outputId": "f647e0d8-ca06-4001-f889-f9ed44f057d1"
      },
      "outputs": [
        {
          "data": {
            "text/html": [
              "<style>#sk-container-id-1 {\n",
              "  /* Definition of color scheme common for light and dark mode */\n",
              "  --sklearn-color-text: #000;\n",
              "  --sklearn-color-text-muted: #666;\n",
              "  --sklearn-color-line: gray;\n",
              "  /* Definition of color scheme for unfitted estimators */\n",
              "  --sklearn-color-unfitted-level-0: #fff5e6;\n",
              "  --sklearn-color-unfitted-level-1: #f6e4d2;\n",
              "  --sklearn-color-unfitted-level-2: #ffe0b3;\n",
              "  --sklearn-color-unfitted-level-3: chocolate;\n",
              "  /* Definition of color scheme for fitted estimators */\n",
              "  --sklearn-color-fitted-level-0: #f0f8ff;\n",
              "  --sklearn-color-fitted-level-1: #d4ebff;\n",
              "  --sklearn-color-fitted-level-2: #b3dbfd;\n",
              "  --sklearn-color-fitted-level-3: cornflowerblue;\n",
              "\n",
              "  /* Specific color for light theme */\n",
              "  --sklearn-color-text-on-default-background: var(--sg-text-color, var(--theme-code-foreground, var(--jp-content-font-color1, black)));\n",
              "  --sklearn-color-background: var(--sg-background-color, var(--theme-background, var(--jp-layout-color0, white)));\n",
              "  --sklearn-color-border-box: var(--sg-text-color, var(--theme-code-foreground, var(--jp-content-font-color1, black)));\n",
              "  --sklearn-color-icon: #696969;\n",
              "\n",
              "  @media (prefers-color-scheme: dark) {\n",
              "    /* Redefinition of color scheme for dark theme */\n",
              "    --sklearn-color-text-on-default-background: var(--sg-text-color, var(--theme-code-foreground, var(--jp-content-font-color1, white)));\n",
              "    --sklearn-color-background: var(--sg-background-color, var(--theme-background, var(--jp-layout-color0, #111)));\n",
              "    --sklearn-color-border-box: var(--sg-text-color, var(--theme-code-foreground, var(--jp-content-font-color1, white)));\n",
              "    --sklearn-color-icon: #878787;\n",
              "  }\n",
              "}\n",
              "\n",
              "#sk-container-id-1 {\n",
              "  color: var(--sklearn-color-text);\n",
              "}\n",
              "\n",
              "#sk-container-id-1 pre {\n",
              "  padding: 0;\n",
              "}\n",
              "\n",
              "#sk-container-id-1 input.sk-hidden--visually {\n",
              "  border: 0;\n",
              "  clip: rect(1px 1px 1px 1px);\n",
              "  clip: rect(1px, 1px, 1px, 1px);\n",
              "  height: 1px;\n",
              "  margin: -1px;\n",
              "  overflow: hidden;\n",
              "  padding: 0;\n",
              "  position: absolute;\n",
              "  width: 1px;\n",
              "}\n",
              "\n",
              "#sk-container-id-1 div.sk-dashed-wrapped {\n",
              "  border: 1px dashed var(--sklearn-color-line);\n",
              "  margin: 0 0.4em 0.5em 0.4em;\n",
              "  box-sizing: border-box;\n",
              "  padding-bottom: 0.4em;\n",
              "  background-color: var(--sklearn-color-background);\n",
              "}\n",
              "\n",
              "#sk-container-id-1 div.sk-container {\n",
              "  /* jupyter's `normalize.less` sets `[hidden] { display: none; }`\n",
              "     but bootstrap.min.css set `[hidden] { display: none !important; }`\n",
              "     so we also need the `!important` here to be able to override the\n",
              "     default hidden behavior on the sphinx rendered scikit-learn.org.\n",
              "     See: https://github.com/scikit-learn/scikit-learn/issues/21755 */\n",
              "  display: inline-block !important;\n",
              "  position: relative;\n",
              "}\n",
              "\n",
              "#sk-container-id-1 div.sk-text-repr-fallback {\n",
              "  display: none;\n",
              "}\n",
              "\n",
              "div.sk-parallel-item,\n",
              "div.sk-serial,\n",
              "div.sk-item {\n",
              "  /* draw centered vertical line to link estimators */\n",
              "  background-image: linear-gradient(var(--sklearn-color-text-on-default-background), var(--sklearn-color-text-on-default-background));\n",
              "  background-size: 2px 100%;\n",
              "  background-repeat: no-repeat;\n",
              "  background-position: center center;\n",
              "}\n",
              "\n",
              "/* Parallel-specific style estimator block */\n",
              "\n",
              "#sk-container-id-1 div.sk-parallel-item::after {\n",
              "  content: \"\";\n",
              "  width: 100%;\n",
              "  border-bottom: 2px solid var(--sklearn-color-text-on-default-background);\n",
              "  flex-grow: 1;\n",
              "}\n",
              "\n",
              "#sk-container-id-1 div.sk-parallel {\n",
              "  display: flex;\n",
              "  align-items: stretch;\n",
              "  justify-content: center;\n",
              "  background-color: var(--sklearn-color-background);\n",
              "  position: relative;\n",
              "}\n",
              "\n",
              "#sk-container-id-1 div.sk-parallel-item {\n",
              "  display: flex;\n",
              "  flex-direction: column;\n",
              "}\n",
              "\n",
              "#sk-container-id-1 div.sk-parallel-item:first-child::after {\n",
              "  align-self: flex-end;\n",
              "  width: 50%;\n",
              "}\n",
              "\n",
              "#sk-container-id-1 div.sk-parallel-item:last-child::after {\n",
              "  align-self: flex-start;\n",
              "  width: 50%;\n",
              "}\n",
              "\n",
              "#sk-container-id-1 div.sk-parallel-item:only-child::after {\n",
              "  width: 0;\n",
              "}\n",
              "\n",
              "/* Serial-specific style estimator block */\n",
              "\n",
              "#sk-container-id-1 div.sk-serial {\n",
              "  display: flex;\n",
              "  flex-direction: column;\n",
              "  align-items: center;\n",
              "  background-color: var(--sklearn-color-background);\n",
              "  padding-right: 1em;\n",
              "  padding-left: 1em;\n",
              "}\n",
              "\n",
              "\n",
              "/* Toggleable style: style used for estimator/Pipeline/ColumnTransformer box that is\n",
              "clickable and can be expanded/collapsed.\n",
              "- Pipeline and ColumnTransformer use this feature and define the default style\n",
              "- Estimators will overwrite some part of the style using the `sk-estimator` class\n",
              "*/\n",
              "\n",
              "/* Pipeline and ColumnTransformer style (default) */\n",
              "\n",
              "#sk-container-id-1 div.sk-toggleable {\n",
              "  /* Default theme specific background. It is overwritten whether we have a\n",
              "  specific estimator or a Pipeline/ColumnTransformer */\n",
              "  background-color: var(--sklearn-color-background);\n",
              "}\n",
              "\n",
              "/* Toggleable label */\n",
              "#sk-container-id-1 label.sk-toggleable__label {\n",
              "  cursor: pointer;\n",
              "  display: flex;\n",
              "  width: 100%;\n",
              "  margin-bottom: 0;\n",
              "  padding: 0.5em;\n",
              "  box-sizing: border-box;\n",
              "  text-align: center;\n",
              "  align-items: start;\n",
              "  justify-content: space-between;\n",
              "  gap: 0.5em;\n",
              "}\n",
              "\n",
              "#sk-container-id-1 label.sk-toggleable__label .caption {\n",
              "  font-size: 0.6rem;\n",
              "  font-weight: lighter;\n",
              "  color: var(--sklearn-color-text-muted);\n",
              "}\n",
              "\n",
              "#sk-container-id-1 label.sk-toggleable__label-arrow:before {\n",
              "  /* Arrow on the left of the label */\n",
              "  content: \"▸\";\n",
              "  float: left;\n",
              "  margin-right: 0.25em;\n",
              "  color: var(--sklearn-color-icon);\n",
              "}\n",
              "\n",
              "#sk-container-id-1 label.sk-toggleable__label-arrow:hover:before {\n",
              "  color: var(--sklearn-color-text);\n",
              "}\n",
              "\n",
              "/* Toggleable content - dropdown */\n",
              "\n",
              "#sk-container-id-1 div.sk-toggleable__content {\n",
              "  max-height: 0;\n",
              "  max-width: 0;\n",
              "  overflow: hidden;\n",
              "  text-align: left;\n",
              "  /* unfitted */\n",
              "  background-color: var(--sklearn-color-unfitted-level-0);\n",
              "}\n",
              "\n",
              "#sk-container-id-1 div.sk-toggleable__content.fitted {\n",
              "  /* fitted */\n",
              "  background-color: var(--sklearn-color-fitted-level-0);\n",
              "}\n",
              "\n",
              "#sk-container-id-1 div.sk-toggleable__content pre {\n",
              "  margin: 0.2em;\n",
              "  border-radius: 0.25em;\n",
              "  color: var(--sklearn-color-text);\n",
              "  /* unfitted */\n",
              "  background-color: var(--sklearn-color-unfitted-level-0);\n",
              "}\n",
              "\n",
              "#sk-container-id-1 div.sk-toggleable__content.fitted pre {\n",
              "  /* unfitted */\n",
              "  background-color: var(--sklearn-color-fitted-level-0);\n",
              "}\n",
              "\n",
              "#sk-container-id-1 input.sk-toggleable__control:checked~div.sk-toggleable__content {\n",
              "  /* Expand drop-down */\n",
              "  max-height: 200px;\n",
              "  max-width: 100%;\n",
              "  overflow: auto;\n",
              "}\n",
              "\n",
              "#sk-container-id-1 input.sk-toggleable__control:checked~label.sk-toggleable__label-arrow:before {\n",
              "  content: \"▾\";\n",
              "}\n",
              "\n",
              "/* Pipeline/ColumnTransformer-specific style */\n",
              "\n",
              "#sk-container-id-1 div.sk-label input.sk-toggleable__control:checked~label.sk-toggleable__label {\n",
              "  color: var(--sklearn-color-text);\n",
              "  background-color: var(--sklearn-color-unfitted-level-2);\n",
              "}\n",
              "\n",
              "#sk-container-id-1 div.sk-label.fitted input.sk-toggleable__control:checked~label.sk-toggleable__label {\n",
              "  background-color: var(--sklearn-color-fitted-level-2);\n",
              "}\n",
              "\n",
              "/* Estimator-specific style */\n",
              "\n",
              "/* Colorize estimator box */\n",
              "#sk-container-id-1 div.sk-estimator input.sk-toggleable__control:checked~label.sk-toggleable__label {\n",
              "  /* unfitted */\n",
              "  background-color: var(--sklearn-color-unfitted-level-2);\n",
              "}\n",
              "\n",
              "#sk-container-id-1 div.sk-estimator.fitted input.sk-toggleable__control:checked~label.sk-toggleable__label {\n",
              "  /* fitted */\n",
              "  background-color: var(--sklearn-color-fitted-level-2);\n",
              "}\n",
              "\n",
              "#sk-container-id-1 div.sk-label label.sk-toggleable__label,\n",
              "#sk-container-id-1 div.sk-label label {\n",
              "  /* The background is the default theme color */\n",
              "  color: var(--sklearn-color-text-on-default-background);\n",
              "}\n",
              "\n",
              "/* On hover, darken the color of the background */\n",
              "#sk-container-id-1 div.sk-label:hover label.sk-toggleable__label {\n",
              "  color: var(--sklearn-color-text);\n",
              "  background-color: var(--sklearn-color-unfitted-level-2);\n",
              "}\n",
              "\n",
              "/* Label box, darken color on hover, fitted */\n",
              "#sk-container-id-1 div.sk-label.fitted:hover label.sk-toggleable__label.fitted {\n",
              "  color: var(--sklearn-color-text);\n",
              "  background-color: var(--sklearn-color-fitted-level-2);\n",
              "}\n",
              "\n",
              "/* Estimator label */\n",
              "\n",
              "#sk-container-id-1 div.sk-label label {\n",
              "  font-family: monospace;\n",
              "  font-weight: bold;\n",
              "  display: inline-block;\n",
              "  line-height: 1.2em;\n",
              "}\n",
              "\n",
              "#sk-container-id-1 div.sk-label-container {\n",
              "  text-align: center;\n",
              "}\n",
              "\n",
              "/* Estimator-specific */\n",
              "#sk-container-id-1 div.sk-estimator {\n",
              "  font-family: monospace;\n",
              "  border: 1px dotted var(--sklearn-color-border-box);\n",
              "  border-radius: 0.25em;\n",
              "  box-sizing: border-box;\n",
              "  margin-bottom: 0.5em;\n",
              "  /* unfitted */\n",
              "  background-color: var(--sklearn-color-unfitted-level-0);\n",
              "}\n",
              "\n",
              "#sk-container-id-1 div.sk-estimator.fitted {\n",
              "  /* fitted */\n",
              "  background-color: var(--sklearn-color-fitted-level-0);\n",
              "}\n",
              "\n",
              "/* on hover */\n",
              "#sk-container-id-1 div.sk-estimator:hover {\n",
              "  /* unfitted */\n",
              "  background-color: var(--sklearn-color-unfitted-level-2);\n",
              "}\n",
              "\n",
              "#sk-container-id-1 div.sk-estimator.fitted:hover {\n",
              "  /* fitted */\n",
              "  background-color: var(--sklearn-color-fitted-level-2);\n",
              "}\n",
              "\n",
              "/* Specification for estimator info (e.g. \"i\" and \"?\") */\n",
              "\n",
              "/* Common style for \"i\" and \"?\" */\n",
              "\n",
              ".sk-estimator-doc-link,\n",
              "a:link.sk-estimator-doc-link,\n",
              "a:visited.sk-estimator-doc-link {\n",
              "  float: right;\n",
              "  font-size: smaller;\n",
              "  line-height: 1em;\n",
              "  font-family: monospace;\n",
              "  background-color: var(--sklearn-color-background);\n",
              "  border-radius: 1em;\n",
              "  height: 1em;\n",
              "  width: 1em;\n",
              "  text-decoration: none !important;\n",
              "  margin-left: 0.5em;\n",
              "  text-align: center;\n",
              "  /* unfitted */\n",
              "  border: var(--sklearn-color-unfitted-level-1) 1pt solid;\n",
              "  color: var(--sklearn-color-unfitted-level-1);\n",
              "}\n",
              "\n",
              ".sk-estimator-doc-link.fitted,\n",
              "a:link.sk-estimator-doc-link.fitted,\n",
              "a:visited.sk-estimator-doc-link.fitted {\n",
              "  /* fitted */\n",
              "  border: var(--sklearn-color-fitted-level-1) 1pt solid;\n",
              "  color: var(--sklearn-color-fitted-level-1);\n",
              "}\n",
              "\n",
              "/* On hover */\n",
              "div.sk-estimator:hover .sk-estimator-doc-link:hover,\n",
              ".sk-estimator-doc-link:hover,\n",
              "div.sk-label-container:hover .sk-estimator-doc-link:hover,\n",
              ".sk-estimator-doc-link:hover {\n",
              "  /* unfitted */\n",
              "  background-color: var(--sklearn-color-unfitted-level-3);\n",
              "  color: var(--sklearn-color-background);\n",
              "  text-decoration: none;\n",
              "}\n",
              "\n",
              "div.sk-estimator.fitted:hover .sk-estimator-doc-link.fitted:hover,\n",
              ".sk-estimator-doc-link.fitted:hover,\n",
              "div.sk-label-container:hover .sk-estimator-doc-link.fitted:hover,\n",
              ".sk-estimator-doc-link.fitted:hover {\n",
              "  /* fitted */\n",
              "  background-color: var(--sklearn-color-fitted-level-3);\n",
              "  color: var(--sklearn-color-background);\n",
              "  text-decoration: none;\n",
              "}\n",
              "\n",
              "/* Span, style for the box shown on hovering the info icon */\n",
              ".sk-estimator-doc-link span {\n",
              "  display: none;\n",
              "  z-index: 9999;\n",
              "  position: relative;\n",
              "  font-weight: normal;\n",
              "  right: .2ex;\n",
              "  padding: .5ex;\n",
              "  margin: .5ex;\n",
              "  width: min-content;\n",
              "  min-width: 20ex;\n",
              "  max-width: 50ex;\n",
              "  color: var(--sklearn-color-text);\n",
              "  box-shadow: 2pt 2pt 4pt #999;\n",
              "  /* unfitted */\n",
              "  background: var(--sklearn-color-unfitted-level-0);\n",
              "  border: .5pt solid var(--sklearn-color-unfitted-level-3);\n",
              "}\n",
              "\n",
              ".sk-estimator-doc-link.fitted span {\n",
              "  /* fitted */\n",
              "  background: var(--sklearn-color-fitted-level-0);\n",
              "  border: var(--sklearn-color-fitted-level-3);\n",
              "}\n",
              "\n",
              ".sk-estimator-doc-link:hover span {\n",
              "  display: block;\n",
              "}\n",
              "\n",
              "/* \"?\"-specific style due to the `<a>` HTML tag */\n",
              "\n",
              "#sk-container-id-1 a.estimator_doc_link {\n",
              "  float: right;\n",
              "  font-size: 1rem;\n",
              "  line-height: 1em;\n",
              "  font-family: monospace;\n",
              "  background-color: var(--sklearn-color-background);\n",
              "  border-radius: 1rem;\n",
              "  height: 1rem;\n",
              "  width: 1rem;\n",
              "  text-decoration: none;\n",
              "  /* unfitted */\n",
              "  color: var(--sklearn-color-unfitted-level-1);\n",
              "  border: var(--sklearn-color-unfitted-level-1) 1pt solid;\n",
              "}\n",
              "\n",
              "#sk-container-id-1 a.estimator_doc_link.fitted {\n",
              "  /* fitted */\n",
              "  border: var(--sklearn-color-fitted-level-1) 1pt solid;\n",
              "  color: var(--sklearn-color-fitted-level-1);\n",
              "}\n",
              "\n",
              "/* On hover */\n",
              "#sk-container-id-1 a.estimator_doc_link:hover {\n",
              "  /* unfitted */\n",
              "  background-color: var(--sklearn-color-unfitted-level-3);\n",
              "  color: var(--sklearn-color-background);\n",
              "  text-decoration: none;\n",
              "}\n",
              "\n",
              "#sk-container-id-1 a.estimator_doc_link.fitted:hover {\n",
              "  /* fitted */\n",
              "  background-color: var(--sklearn-color-fitted-level-3);\n",
              "}\n",
              "</style><div id=\"sk-container-id-1\" class=\"sk-top-container\"><div class=\"sk-text-repr-fallback\"><pre>LogisticRegression(random_state=42)</pre><b>In a Jupyter environment, please rerun this cell to show the HTML representation or trust the notebook. <br />On GitHub, the HTML representation is unable to render, please try loading this page with nbviewer.org.</b></div><div class=\"sk-container\" hidden><div class=\"sk-item\"><div class=\"sk-estimator fitted sk-toggleable\"><input class=\"sk-toggleable__control sk-hidden--visually\" id=\"sk-estimator-id-1\" type=\"checkbox\" checked><label for=\"sk-estimator-id-1\" class=\"sk-toggleable__label fitted sk-toggleable__label-arrow\"><div><div>LogisticRegression</div></div><div><a class=\"sk-estimator-doc-link fitted\" rel=\"noreferrer\" target=\"_blank\" href=\"https://scikit-learn.org/1.6/modules/generated/sklearn.linear_model.LogisticRegression.html\">?<span>Documentation for LogisticRegression</span></a><span class=\"sk-estimator-doc-link fitted\">i<span>Fitted</span></span></div></label><div class=\"sk-toggleable__content fitted\"><pre>LogisticRegression(random_state=42)</pre></div> </div></div></div></div>"
            ],
            "text/plain": [
              "LogisticRegression(random_state=42)"
            ]
          },
          "execution_count": 118,
          "metadata": {},
          "output_type": "execute_result"
        }
      ],
      "source": [
        "lg_model = LogisticRegression(random_state = 42)\n",
        "lg_model.fit(x_train, y_train)"
      ]
    },
    {
      "cell_type": "code",
      "execution_count": 119,
      "metadata": {
        "colab": {
          "base_uri": "https://localhost:8080/"
        },
        "id": "qFyyThhGKXWN",
        "outputId": "35213cfa-f750-4da5-9b0a-c8f0b1c57fb4"
      },
      "outputs": [
        {
          "name": "stdout",
          "output_type": "stream",
          "text": [
            "Training Score: 0.9288873766587274\n",
            "Test Score: 0.9233924318602805\n"
          ]
        }
      ],
      "source": [
        "lg_train, lg_test = lg_model.score(x_train , y_train), lg_model.score(x_test , y_test)\n",
        "\n",
        "print(f\"Training Score: {lg_train}\")\n",
        "print(f\"Test Score: {lg_test}\")"
      ]
    },
    {
      "cell_type": "code",
      "execution_count": 42,
      "metadata": {
        "id": "A4_aD321KZ8t"
      },
      "outputs": [],
      "source": []
    },
    {
      "cell_type": "code",
      "execution_count": 42,
      "metadata": {
        "id": "C--bhOKLLUhY"
      },
      "outputs": [],
      "source": []
    },
    {
      "cell_type": "code",
      "execution_count": 120,
      "metadata": {
        "colab": {
          "base_uri": "https://localhost:8080/"
        },
        "id": "gy-b06p7MBWr",
        "outputId": "43d4ba17-f763-4c8a-991c-8c8ddf72db18"
      },
      "outputs": [
        {
          "name": "stdout",
          "output_type": "stream",
          "text": [
            "Requirement already satisfied: optuna in d:\\fyp project\\intrusiondetectionsystem\\venv\\lib\\site-packages (4.1.0)\n",
            "Requirement already satisfied: alembic>=1.5.0 in d:\\fyp project\\intrusiondetectionsystem\\venv\\lib\\site-packages (from optuna) (1.14.0)\n",
            "Requirement already satisfied: colorlog in d:\\fyp project\\intrusiondetectionsystem\\venv\\lib\\site-packages (from optuna) (6.9.0)\n",
            "Requirement already satisfied: numpy in d:\\fyp project\\intrusiondetectionsystem\\venv\\lib\\site-packages (from optuna) (2.2.1)\n",
            "Requirement already satisfied: packaging>=20.0 in c:\\users\\user\\appdata\\roaming\\python\\python313\\site-packages (from optuna) (24.2)\n",
            "Requirement already satisfied: sqlalchemy>=1.4.2 in d:\\fyp project\\intrusiondetectionsystem\\venv\\lib\\site-packages (from optuna) (2.0.37)\n",
            "Requirement already satisfied: tqdm in d:\\fyp project\\intrusiondetectionsystem\\venv\\lib\\site-packages (from optuna) (4.67.1)\n",
            "Requirement already satisfied: PyYAML in d:\\fyp project\\intrusiondetectionsystem\\venv\\lib\\site-packages (from optuna) (6.0.2)\n",
            "Requirement already satisfied: Mako in d:\\fyp project\\intrusiondetectionsystem\\venv\\lib\\site-packages (from alembic>=1.5.0->optuna) (1.3.8)\n",
            "Requirement already satisfied: typing-extensions>=4 in d:\\fyp project\\intrusiondetectionsystem\\venv\\lib\\site-packages (from alembic>=1.5.0->optuna) (4.12.2)\n",
            "Requirement already satisfied: greenlet!=0.4.17 in d:\\fyp project\\intrusiondetectionsystem\\venv\\lib\\site-packages (from sqlalchemy>=1.4.2->optuna) (3.1.1)\n",
            "Requirement already satisfied: colorama in c:\\users\\user\\appdata\\roaming\\python\\python313\\site-packages (from colorlog->optuna) (0.4.6)\n",
            "Requirement already satisfied: MarkupSafe>=0.9.2 in d:\\fyp project\\intrusiondetectionsystem\\venv\\lib\\site-packages (from Mako->alembic>=1.5.0->optuna) (3.0.2)\n",
            "Note: you may need to restart the kernel to use updated packages.\n"
          ]
        }
      ],
      "source": [
        "pip install optuna"
      ]
    },
    {
      "cell_type": "code",
      "execution_count": 121,
      "metadata": {
        "id": "fgBSFobzMXFG"
      },
      "outputs": [
        {
          "name": "stderr",
          "output_type": "stream",
          "text": [
            "d:\\FYP project\\intrusiondetectionsystem\\venv\\Lib\\site-packages\\tqdm\\auto.py:21: TqdmWarning: IProgress not found. Please update jupyter and ipywidgets. See https://ipywidgets.readthedocs.io/en/stable/user_install.html\n",
            "  from .autonotebook import tqdm as notebook_tqdm\n"
          ]
        }
      ],
      "source": [
        "import optuna\n",
        "optuna.logging.set_verbosity(optuna.logging.WARNING)"
      ]
    },
    {
      "cell_type": "code",
      "execution_count": 44,
      "metadata": {
        "id": "baa4sQhkQTiQ"
      },
      "outputs": [],
      "source": []
    },
    {
      "cell_type": "code",
      "execution_count": 44,
      "metadata": {
        "id": "vUuyGUB8QTBj"
      },
      "outputs": [],
      "source": []
    },
    {
      "cell_type": "code",
      "execution_count": 44,
      "metadata": {
        "id": "tM0f_Q3LQlVO"
      },
      "outputs": [],
      "source": []
    },
    {
      "cell_type": "code",
      "execution_count": 122,
      "metadata": {
        "id": "B5VXAxXgMshD"
      },
      "outputs": [],
      "source": [
        "def objective(trial):\n",
        "    n_neighbors = trial.suggest_int('KNN_n_neighbors', 2, 16, log=False)\n",
        "    classifier_obj = KNeighborsClassifier(n_neighbors=n_neighbors)\n",
        "    classifier_obj.fit(x_train, y_train)\n",
        "    accuracy = classifier_obj.score(x_test, y_test)\n",
        "    return accuracy"
      ]
    },
    {
      "cell_type": "code",
      "execution_count": 123,
      "metadata": {
        "colab": {
          "base_uri": "https://localhost:8080/"
        },
        "id": "Xe1n5-LKOa-H",
        "outputId": "a0ef4d85-d38f-49d4-c027-180d508e3ec6"
      },
      "outputs": [
        {
          "name": "stdout",
          "output_type": "stream",
          "text": [
            "FrozenTrial(number=0, state=1, values=[0.9814765811061127], datetime_start=datetime.datetime(2025, 1, 15, 19, 18, 49, 840721), datetime_complete=datetime.datetime(2025, 1, 15, 19, 18, 51, 186643), params={'KNN_n_neighbors': 12}, user_attrs={}, system_attrs={}, intermediate_values={}, distributions={'KNN_n_neighbors': IntDistribution(high=16, log=False, low=2, step=1)}, trial_id=0, value=None)\n"
          ]
        }
      ],
      "source": [
        "study_KNN = optuna.create_study(direction='maximize')\n",
        "study_KNN.optimize(objective, n_trials=1)\n",
        "print(study_KNN.best_trial)"
      ]
    },
    {
      "cell_type": "code",
      "execution_count": 124,
      "metadata": {
        "colab": {
          "base_uri": "https://localhost:8080/"
        },
        "id": "ILU3zF_tOcf5",
        "outputId": "5bed01e2-f6bd-4271-b674-e928caad479b"
      },
      "outputs": [
        {
          "name": "stdout",
          "output_type": "stream",
          "text": [
            "Train Score: 0.9816264035386186\n",
            "Test Score: 0.9814765811061127\n"
          ]
        }
      ],
      "source": [
        "KNN_model = KNeighborsClassifier(n_neighbors=study_KNN.best_trial.params['KNN_n_neighbors'])\n",
        "KNN_model.fit(x_train, y_train)\n",
        "\n",
        "KNN_train, KNN_test = KNN_model.score(x_train, y_train), KNN_model.score(x_test, y_test)\n",
        "\n",
        "print(f\"Train Score: {KNN_train}\")\n",
        "print(f\"Test Score: {KNN_test}\")"
      ]
    },
    {
      "cell_type": "code",
      "execution_count": 47,
      "metadata": {
        "id": "QzYm4qb_OfTt"
      },
      "outputs": [],
      "source": []
    },
    {
      "cell_type": "code",
      "execution_count": 47,
      "metadata": {
        "id": "P_yziz0zOkP_"
      },
      "outputs": [],
      "source": []
    },
    {
      "cell_type": "code",
      "execution_count": 125,
      "metadata": {
        "colab": {
          "base_uri": "https://localhost:8080/"
        },
        "id": "pmi1fxFZQUuu",
        "outputId": "53ac3401-6bbc-4a7e-9df9-c5d6b7cfd56c"
      },
      "outputs": [
        {
          "name": "stdout",
          "output_type": "stream",
          "text": [
            "Training time:  0.03596687316894531\n"
          ]
        }
      ],
      "source": [
        "from sklearn.tree import DecisionTreeClassifier\n",
        "\n",
        "clfd = DecisionTreeClassifier(criterion =\"entropy\", max_depth = 4)\n",
        "start_time = time.time()\n",
        "clfd.fit(x_train, y_train.values.ravel())\n",
        "end_time = time.time()\n",
        "print(\"Training time: \", end_time-start_time)"
      ]
    },
    {
      "cell_type": "code",
      "execution_count": 126,
      "metadata": {
        "colab": {
          "base_uri": "https://localhost:8080/"
        },
        "id": "oiXZsQRlQaMm",
        "outputId": "ae291fa1-ab51-42f8-8427-39924060f117"
      },
      "outputs": [
        {
          "name": "stdout",
          "output_type": "stream",
          "text": [
            "Testing time:  0.004448413848876953\n"
          ]
        }
      ],
      "source": [
        "start_time = time.time()\n",
        "y_test_pred = clfd.predict(x_train)\n",
        "end_time = time.time()\n",
        "print(\"Testing time: \", end_time-start_time)"
      ]
    },
    {
      "cell_type": "code",
      "execution_count": 127,
      "metadata": {
        "id": "ZYEqgET3OlOs"
      },
      "outputs": [],
      "source": [
        "def objective(trial):\n",
        "    dt_max_depth = trial.suggest_int('dt_max_depth', 2, 32, log=False)\n",
        "    dt_max_features = trial.suggest_int('dt_max_features', 2, 10, log=False)\n",
        "    classifier_obj = DecisionTreeClassifier(max_features = dt_max_features, max_depth = dt_max_depth)\n",
        "    classifier_obj.fit(x_train, y_train)\n",
        "    accuracy = classifier_obj.score(x_test, y_test)\n",
        "    return accuracy"
      ]
    },
    {
      "cell_type": "code",
      "execution_count": 128,
      "metadata": {
        "colab": {
          "base_uri": "https://localhost:8080/"
        },
        "id": "Yag7e4lMOlwq",
        "outputId": "40e1a5fd-a83e-4eac-943f-ec2e68462ae1"
      },
      "outputs": [
        {
          "name": "stdout",
          "output_type": "stream",
          "text": [
            "FrozenTrial(number=0, state=1, values=[0.9957660756813972], datetime_start=datetime.datetime(2025, 1, 15, 19, 19, 37, 533167), datetime_complete=datetime.datetime(2025, 1, 15, 19, 19, 37, 585296), params={'dt_max_depth': 29, 'dt_max_features': 9}, user_attrs={}, system_attrs={}, intermediate_values={}, distributions={'dt_max_depth': IntDistribution(high=32, log=False, low=2, step=1), 'dt_max_features': IntDistribution(high=10, log=False, low=2, step=1)}, trial_id=0, value=None)\n"
          ]
        }
      ],
      "source": [
        "study_dt = optuna.create_study(direction='maximize')\n",
        "study_dt.optimize(objective, n_trials=30)\n",
        "print(study_dt.best_trial)"
      ]
    },
    {
      "cell_type": "code",
      "execution_count": 130,
      "metadata": {
        "colab": {
          "base_uri": "https://localhost:8080/"
        },
        "id": "HeR3qWf6On6k",
        "outputId": "802177fb-1e08-418c-aae0-fd1780f4e127"
      },
      "outputs": [
        {
          "name": "stdout",
          "output_type": "stream",
          "text": [
            "Train Score: 1.0\n",
            "Test Score: 0.9955014554114845\n"
          ]
        }
      ],
      "source": [
        "dt = DecisionTreeClassifier(max_features = study_dt.best_trial.params['dt_max_features'], max_depth = study_dt.best_trial.params['dt_max_depth'])\n",
        "dt.fit(x_train, y_train)\n",
        "\n",
        "dt_train, dt_test = dt.score(x_train, y_train), dt.score(x_test, y_test)\n",
        "\n",
        "print(f\"Train Score: {dt_train}\")\n",
        "print(f\"Test Score: {dt_test}\")"
      ]
    },
    {
      "cell_type": "code",
      "execution_count": 131,
      "metadata": {
        "colab": {
          "base_uri": "https://localhost:8080/"
        },
        "id": "EM17GVmMOqaq",
        "outputId": "b7131036-f151-44be-a71f-abb0bea70a40"
      },
      "outputs": [
        {
          "name": "stdout",
          "output_type": "stream",
          "text": [
            "╒═════════════════════╤═══════════════╤══════════════╕\n",
            "│ Model               │   Train Score │   Test Score │\n",
            "╞═════════════════════╪═══════════════╪══════════════╡\n",
            "│ KNN                 │      0.981626 │     0.981477 │\n",
            "├─────────────────────┼───────────────┼──────────────┤\n",
            "│ Logistic Regression │      0.928887 │     0.923392 │\n",
            "├─────────────────────┼───────────────┼──────────────┤\n",
            "│ Decision Tree       │      1        │     0.995501 │\n",
            "╘═════════════════════╧═══════════════╧══════════════╛\n"
          ]
        }
      ],
      "source": [
        "data = [[\"KNN\", KNN_train, KNN_test],\n",
        "        [\"Logistic Regression\", lg_train, lg_test],\n",
        "        [\"Decision Tree\", dt_train, dt_test]]\n",
        "\n",
        "col_names = [\"Model\", \"Train Score\", \"Test Score\"]\n",
        "print(tabulate(data, headers=col_names, tablefmt=\"fancy_grid\"))"
      ]
    },
    {
      "cell_type": "code",
      "execution_count": 53,
      "metadata": {
        "id": "4aiIRTXTOtv3"
      },
      "outputs": [],
      "source": []
    },
    {
      "cell_type": "code",
      "execution_count": 53,
      "metadata": {
        "id": "MYLAqDX3RkZS"
      },
      "outputs": [],
      "source": []
    },
    {
      "cell_type": "code",
      "execution_count": 132,
      "metadata": {
        "id": "EPHitadgRkWR"
      },
      "outputs": [],
      "source": [
        "SEED = 42\n",
        "\n",
        "# Decision Tree Model\n",
        "dtc = DecisionTreeClassifier()\n",
        "\n",
        "# KNN\n",
        "knn = KNeighborsClassifier()\n",
        "\n",
        "# LOGISTIC REGRESSION MODEL\n",
        "\n",
        "lr = LogisticRegression()"
      ]
    },
    {
      "cell_type": "code",
      "execution_count": 133,
      "metadata": {
        "id": "2xj6jXP6RvEE"
      },
      "outputs": [],
      "source": [
        "from sklearn.model_selection import cross_val_score\n",
        "models = {}\n",
        "models['KNeighborsClassifier']= knn\n",
        "models['LogisticRegression']= lr\n",
        "models['DecisionTreeClassifier']= dtc"
      ]
    },
    {
      "cell_type": "code",
      "execution_count": 134,
      "metadata": {
        "id": "fB1q6U1OR1_H"
      },
      "outputs": [],
      "source": [
        "scores = {}\n",
        "for name in models:\n",
        "  scores[name]={}\n",
        "  for scorer in ['precision','recall']:\n",
        "    scores[name][scorer] = cross_val_score(models[name], x_train, y_train, cv=10, scoring=scorer)"
      ]
    },
    {
      "cell_type": "code",
      "execution_count": 135,
      "metadata": {
        "colab": {
          "base_uri": "https://localhost:8080/"
        },
        "id": "A2YwpZexR8Af",
        "outputId": "d0152686-84e3-4e23-be03-88befd08dd36"
      },
      "outputs": [
        {
          "name": "stdout",
          "output_type": "stream",
          "text": [
            "*************** KNeighborsClassifier Model Validation ***************\n",
            "Mean precision: \n",
            " 98.45 % +- 0.48\n",
            "\n",
            "Mean recall: \n",
            " 98.24 % +- 0.54\n",
            "\n",
            "**************** LogisticRegression Model Validation ****************\n",
            "Mean precision: \n",
            " 91.36 % +- 0.56\n",
            "\n",
            "Mean recall: \n",
            " 95.72 % +- 0.69\n",
            "\n",
            "************** DecisionTreeClassifier Model Validation **************\n",
            "Mean precision: \n",
            " 99.55 % +- 0.2\n",
            "\n",
            "Mean recall: \n",
            " 99.56 % +- 0.22\n",
            "\n"
          ]
        }
      ],
      "source": [
        "def line(name):\n",
        "  return '*'*(25-len(name)//2)\n",
        "\n",
        "for name in models:\n",
        "  print(line(name), name, 'Model Validation', line(name))\n",
        "\n",
        "  for scorer in ['precision','recall']:\n",
        "    mean = round(np.mean(scores[name][scorer])*100,2)\n",
        "    stdev = round(np.std(scores[name][scorer])*100,2)\n",
        "    print (\"Mean {}:\".format(scorer),\"\\n\", mean,\"%\", \"+-\",stdev)\n",
        "    print()"
      ]
    },
    {
      "cell_type": "code",
      "execution_count": 136,
      "metadata": {
        "colab": {
          "base_uri": "https://localhost:8080/",
          "height": 260
        },
        "id": "MlTIBbkDSA_T",
        "outputId": "c1967a9a-1f90-4b03-e269-1a9f5ceef80e"
      },
      "outputs": [
        {
          "name": "stderr",
          "output_type": "stream",
          "text": [
            "C:\\Users\\USER\\AppData\\Local\\Temp\\ipykernel_18804\\1073761507.py:4: FutureWarning: 'DataFrame.swapaxes' is deprecated and will be removed in a future version. Please use 'DataFrame.transpose' instead.\n",
            "  scores=pd.DataFrame(scores).swapaxes(\"index\", \"columns\")*100\n"
          ]
        },
        {
          "data": {
            "text/plain": [
              "<Axes: >"
            ]
          },
          "execution_count": 136,
          "metadata": {},
          "output_type": "execute_result"
        },
        {
          "data": {
            "image/png": "[encoded data removed]",
            "text/plain": [
              "<Figure size 2400x600 with 1 Axes>"
            ]
          },
          "metadata": {},
          "output_type": "display_data"
        }
      ],
      "source": [
        "for name in models:\n",
        "    for scorer in ['precision','recall']:\n",
        "        scores[name][scorer] = scores[name][scorer].mean()\n",
        "scores=pd.DataFrame(scores).swapaxes(\"index\", \"columns\")*100\n",
        "scores.plot(kind = \"bar\",  ylim=[80,100], figsize=(24,6), rot=0)"
      ]
    },
    {
      "cell_type": "code",
      "execution_count": 137,
      "metadata": {
        "id": "Qe4zULwiSGAB"
      },
      "outputs": [],
      "source": [
        "models = {}\n",
        "models['KNeighborsClassifier']= knn\n",
        "models['LogisticRegression']= lr\n",
        "models['DecisionTreeClassifier']= dtc"
      ]
    },
    {
      "cell_type": "code",
      "execution_count": 138,
      "metadata": {
        "colab": {
          "base_uri": "https://localhost:8080/"
        },
        "id": "PpYv5H2mSQ8p",
        "outputId": "4aaaff69-542a-4857-da4d-c6593c0df698"
      },
      "outputs": [
        {
          "name": "stdout",
          "output_type": "stream",
          "text": [
            "Predictions complete.\n"
          ]
        }
      ],
      "source": [
        "preds={}\n",
        "for name in models:\n",
        "    models[name].fit(x_train, y_train)\n",
        "    preds[name] = models[name].predict(x_test)\n",
        "print(\"Predictions complete.\")"
      ]
    },
    {
      "cell_type": "code",
      "execution_count": 139,
      "metadata": {
        "colab": {
          "base_uri": "https://localhost:8080/"
        },
        "id": "du3BvUIESVDf",
        "outputId": "c374b715-99a2-4251-a42f-a95461c602dc"
      },
      "outputs": [
        {
          "name": "stdout",
          "output_type": "stream",
          "text": [
            "*************** KNeighborsClassifier Model Testing ***************\n",
            "[[3435   63]\n",
            " [  65 3995]]\n",
            "---------------\n",
            "              precision    recall  f1-score   support\n",
            "\n",
            "      normal       0.98      0.98      0.98      3498\n",
            "     anamoly       0.98      0.98      0.98      4060\n",
            "\n",
            "    accuracy                           0.98      7558\n",
            "   macro avg       0.98      0.98      0.98      7558\n",
            "weighted avg       0.98      0.98      0.98      7558\n",
            "\n",
            "**************** LogisticRegression Model Testing ****************\n",
            "[[3129  369]\n",
            " [ 210 3850]]\n",
            "----------------\n",
            "              precision    recall  f1-score   support\n",
            "\n",
            "      normal       0.94      0.89      0.92      3498\n",
            "     anamoly       0.91      0.95      0.93      4060\n",
            "\n",
            "    accuracy                           0.92      7558\n",
            "   macro avg       0.92      0.92      0.92      7558\n",
            "weighted avg       0.92      0.92      0.92      7558\n",
            "\n",
            "************** DecisionTreeClassifier Model Testing **************\n",
            "[[3483   15]\n",
            " [  28 4032]]\n",
            "--------------\n",
            "              precision    recall  f1-score   support\n",
            "\n",
            "      normal       0.99      1.00      0.99      3498\n",
            "     anamoly       1.00      0.99      0.99      4060\n",
            "\n",
            "    accuracy                           0.99      7558\n",
            "   macro avg       0.99      0.99      0.99      7558\n",
            "weighted avg       0.99      0.99      0.99      7558\n",
            "\n"
          ]
        }
      ],
      "source": [
        "from sklearn.metrics import confusion_matrix, classification_report, f1_score\n",
        "def line(name,sym=\"*\"):\n",
        "    return sym*(25-len(name)//2)\n",
        "target_names=[\"normal\",\"anamoly\"]\n",
        "for name in models:\n",
        "    print(line(name), name, 'Model Testing', line(name))\n",
        "    print(confusion_matrix(y_test, preds[name]))\n",
        "    print(line(name,'-'))\n",
        "    print(classification_report(y_test, preds[name], target_names=target_names))"
      ]
    },
    {
      "cell_type": "code",
      "execution_count": 140,
      "metadata": {
        "colab": {
          "base_uri": "https://localhost:8080/",
          "height": 425
        },
        "id": "MP6TXWpUSdFw",
        "outputId": "76c8b46c-ba8b-47e3-867e-80b0af2f9c2f"
      },
      "outputs": [
        {
          "data": {
            "text/plain": [
              "<Axes: >"
            ]
          },
          "execution_count": 140,
          "metadata": {},
          "output_type": "execute_result"
        },
        {
          "data": {
            "image/png": "[encoded data removed]",
            "text/plain": [
              "<Figure size 1000x600 with 1 Axes>"
            ]
          },
          "metadata": {},
          "output_type": "display_data"
        }
      ],
      "source": [
        "f1s = {}\n",
        "for name in models:\n",
        "    f1s[name]=f1_score(y_test, preds[name])\n",
        "f1s=pd.DataFrame(f1s.values(),index=f1s.keys(),columns=[\"F1-score\"])*100\n",
        "f1s.plot(kind = \"bar\",  ylim=[80,100], figsize=(10,6), rot=0)"
      ]
    },
    {
      "cell_type": "code",
      "execution_count": 62,
      "metadata": {
        "id": "Hrlo5oioSm-0"
      },
      "outputs": [],
      "source": []
    },
    {
      "cell_type": "code",
      "execution_count": 63,
      "metadata": {
        "id": "CzaHMjojF1xS"
      },
      "outputs": [],
      "source": [
        "# Pickling the Model File for Deployment #\n"
      ]
    },
    {
      "cell_type": "code",
      "execution_count": 141,
      "metadata": {
        "id": "qEsktciXF2Ar"
      },
      "outputs": [],
      "source": [
        "import pickle"
      ]
    },
    {
      "cell_type": "code",
      "execution_count": 68,
      "metadata": {
        "colab": {
          "base_uri": "https://localhost:8080/"
        },
        "id": "cb_22Je7GLOX",
        "outputId": "103d2b32-0425-42e7-d12e-0b4ddde853b7"
      },
      "outputs": [
        {
          "name": "stdout",
          "output_type": "stream",
          "text": [
            "Model saved successfully!\n"
          ]
        }
      ],
      "source": [
        "import pickle\n",
        "from sklearn.linear_model import LinearRegression\n",
        "from sklearn.model_selection import train_test_split\n",
        "from sklearn.datasets import make_regression\n",
        "\n",
        "# Generate a sample dataset\n",
        "X, y = make_regression(n_samples=100, n_features=5, noise=0.1)\n",
        "X_train, X_test, y_train, y_test = train_test_split(X, y, test_size=0.2, random_state=42)\n",
        "\n",
        "# Define and train the regression model\n",
        "regression = LinearRegression()\n",
        "regression.fit(X_train, y_train)\n",
        "\n",
        "# Save the trained model to a file\n",
        "pickle.dump(regression, open('regmodel.pkl', 'wb'))\n",
        "\n",
        "pickle_model=pickle.load(open('regmodel.pkl', 'rb'))\n",
        "\n",
        "\n",
        "\n",
        "print(\"Model saved successfully!\")\n"
      ]
    },
    {
      "cell_type": "code",
      "execution_count": 142,
      "metadata": {
        "id": "eEYg3-zUKgmQ"
      },
      "outputs": [],
      "source": [
        "import pickle \n",
        "pickle.dump(scaler,open('scaling.pkl','wb'))"
      ]
    },
    {
      "cell_type": "code",
      "execution_count": 155,
      "metadata": {},
      "outputs": [
        {
          "name": "stdout",
          "output_type": "stream",
          "text": [
            "Model and scaler have been saved.\n"
          ]
        }
      ],
      "source": [
        "# Example: Pickling Logistic Regression model and scaler\n",
        "import pickle\n",
        "\n",
        "# Assuming `lg_model` is your trained Logistic Regression model\n",
        "pickle.dump(lg_model, open('ids_model.pkl', 'wb'))\n",
        "\n",
        "# Assuming `scale` is your trained StandardScaler\n",
        "pickle.dump(scale, open('scaler.pkl', 'wb'))\n",
        "\n",
        "print(\"Model and scaler have been saved.\")\n"
      ]
    },
    {
      "cell_type": "code",
      "execution_count": 154,
      "metadata": {},
      "outputs": [],
      "source": [
        "\n"
      ]
    }
  ],
  "metadata": {
    "colab": {
      "provenance": []
    },
    "kernelspec": {
      "display_name": "venv",
      "language": "python",
      "name": "python3"
    },
    "language_info": {
      "codemirror_mode": {
        "name": "ipython",
        "version": 3
      },
      "file_extension": ".py",
      "mimetype": "text/x-python",
      "name": "python",
      "nbconvert_exporter": "python",
      "pygments_lexer": "ipython3",
      "version": "3.13.0"
    }
  },
  "nbformat": 4,
  "nbformat_minor": 0
}
